{
  "nbformat": 4,
  "nbformat_minor": 0,
  "metadata": {
    "colab": {
      "name": "Cyclist_EDA.ipynb",
      "provenance": [],
      "collapsed_sections": []
    },
    "kernelspec": {
      "name": "python3",
      "display_name": "Python 3"
    },
    "language_info": {
      "name": "python"
    }
  },
  "cells": [
    {
      "cell_type": "code",
      "execution_count": 2,
      "metadata": {
        "id": "NM3NDP42AJGa"
      },
      "outputs": [],
      "source": [
        "import numpy as np\n",
        "import pandas as pd\n",
        "import matplotlib.pyplot as plt\n",
        "import seaborn as sns\n",
        "from zipfile import ZipFile"
      ]
    },
    {
      "cell_type": "code",
      "source": [
        "import requests, zipfile\n",
        "from io import BytesIO\n",
        "print('Downloading started')\n",
        "\n",
        "#Defining the zip file URL\n",
        "url = ['https://divvy-tripdata.s3.amazonaws.com/202101-divvy-tripdata.zip',\n",
        "       'https://divvy-tripdata.s3.amazonaws.com/202102-divvy-tripdata.zip',\n",
        "       'https://divvy-tripdata.s3.amazonaws.com/202103-divvy-tripdata.zip',\n",
        "       'https://divvy-tripdata.s3.amazonaws.com/202104-divvy-tripdata.zip',\n",
        "       'https://divvy-tripdata.s3.amazonaws.com/202105-divvy-tripdata.zip',\n",
        "       'https://divvy-tripdata.s3.amazonaws.com/202106-divvy-tripdata.zip',\n",
        "       'https://divvy-tripdata.s3.amazonaws.com/202107-divvy-tripdata.zip',\n",
        "       'https://divvy-tripdata.s3.amazonaws.com/202108-divvy-tripdata.zip',\n",
        "       'https://divvy-tripdata.s3.amazonaws.com/202109-divvy-tripdata.zip',\n",
        "       'https://divvy-tripdata.s3.amazonaws.com/202110-divvy-tripdata.zip',\n",
        "       'https://divvy-tripdata.s3.amazonaws.com/202111-divvy-tripdata.zip',\n",
        "       'https://divvy-tripdata.s3.amazonaws.com/202112-divvy-tripdata.zip'\n",
        "       ]\n",
        "\n",
        "\n",
        "#extracting zip file and filename\n",
        "filename = []\n",
        "for i in url:\n",
        "  filename.append(i.split('/')[-1])\n",
        "  req = requests.get(i)\n",
        "  print('Downloading completed')\n",
        "  zipfile_temp = zipfile.ZipFile(BytesIO(req.content))\n",
        "  zipfile_temp.extractall('/content/Cyclist')\n"
      ],
      "metadata": {
        "colab": {
          "base_uri": "https://localhost:8080/"
        },
        "id": "LxU1hX2nBQyt",
        "outputId": "bd505677-63a8-4ef4-84ba-02d5347a358c"
      },
      "execution_count": 3,
      "outputs": [
        {
          "output_type": "stream",
          "name": "stdout",
          "text": [
            "Downloading started\n",
            "Downloading completed\n",
            "Downloading completed\n",
            "Downloading completed\n",
            "Downloading completed\n",
            "Downloading completed\n",
            "Downloading completed\n",
            "Downloading completed\n",
            "Downloading completed\n",
            "Downloading completed\n",
            "Downloading completed\n",
            "Downloading completed\n",
            "Downloading completed\n"
          ]
        }
      ]
    },
    {
      "cell_type": "code",
      "source": [
        "jan_df = pd.read_csv('/content/Cyclist/202101-divvy-tripdata.csv')\n",
        "feb_df = pd.read_csv('/content/Cyclist/202102-divvy-tripdata.csv')\n",
        "mar_df = pd.read_csv('/content/Cyclist/202103-divvy-tripdata.csv')\n",
        "apr_df = pd.read_csv('/content/Cyclist/202104-divvy-tripdata.csv')\n",
        "may_df = pd.read_csv('/content/Cyclist/202105-divvy-tripdata.csv')\n",
        "jun_df = pd.read_csv('/content/Cyclist/202106-divvy-tripdata.csv')\n",
        "jul_df = pd.read_csv('/content/Cyclist/202107-divvy-tripdata.csv')\n",
        "aug_df = pd.read_csv('/content/Cyclist/202108-divvy-tripdata.csv')\n",
        "sep_df = pd.read_csv('/content/Cyclist/202109-divvy-tripdata.csv')\n",
        "oct_df = pd.read_csv('/content/Cyclist/202110-divvy-tripdata.csv')\n",
        "nov_df = pd.read_csv('/content/Cyclist/202111-divvy-tripdata.csv')\n",
        "dec_df = pd.read_csv('/content/Cyclist/202112-divvy-tripdata.csv')\n"
      ],
      "metadata": {
        "id": "X-SQYoWCxHne"
      },
      "execution_count": 4,
      "outputs": []
    },
    {
      "cell_type": "code",
      "source": [
        "print(jan_df.head(5))\n",
        "print(feb_df.head(5))\n",
        "print(mar_df.head(5))\n",
        "print(apr_df.head(5))\n",
        "print(may_df.head(5))\n",
        "print(jun_df.head(5))\n",
        "print(jul_df.head(5))\n",
        "print(aug_df.head(5))\n",
        "print(sep_df.head(5))\n",
        "print(oct_df.head(5))\n",
        "print(nov_df.head(5))\n",
        "print(dec_df.head(5))\n",
        "\n"
      ],
      "metadata": {
        "id": "CfdxYcdd2axJ"
      },
      "execution_count": null,
      "outputs": []
    },
    {
      "cell_type": "code",
      "source": [
        "df = pd.concat([jan_df,feb_df,mar_df,apr_df,may_df,jun_df,jul_df,aug_df,sep_df,oct_df,nov_df,dec_df])\n",
        "df.size"
      ],
      "metadata": {
        "colab": {
          "base_uri": "https://localhost:8080/"
        },
        "id": "b0_j7Gtf3AlN",
        "outputId": "0d4c9357-171e-4822-fa99-db2be19faa22"
      },
      "execution_count": 5,
      "outputs": [
        {
          "output_type": "execute_result",
          "data": {
            "text/plain": [
              "72735819"
            ]
          },
          "metadata": {},
          "execution_count": 5
        }
      ]
    },
    {
      "cell_type": "code",
      "source": [
        "df.head(10)"
      ],
      "metadata": {
        "colab": {
          "base_uri": "https://localhost:8080/",
          "height": 774
        },
        "id": "wzfxSGhK7Kjt",
        "outputId": "1f7bc4b1-bb50-430f-9521-1d114d3fc9f0"
      },
      "execution_count": 6,
      "outputs": [
        {
          "output_type": "execute_result",
          "data": {
            "text/plain": [
              "            ride_id  rideable_type           started_at             ended_at  \\\n",
              "0  E19E6F1B8D4C42ED  electric_bike  2021-01-23 16:14:19  2021-01-23 16:24:44   \n",
              "1  DC88F20C2C55F27F  electric_bike  2021-01-27 18:43:08  2021-01-27 18:47:12   \n",
              "2  EC45C94683FE3F27  electric_bike  2021-01-21 22:35:54  2021-01-21 22:37:14   \n",
              "3  4FA453A75AE377DB  electric_bike  2021-01-07 13:31:13  2021-01-07 13:42:55   \n",
              "4  BE5E8EB4E7263A0B  electric_bike  2021-01-23 02:24:02  2021-01-23 02:24:45   \n",
              "5  5D8969F88C773979  electric_bike  2021-01-09 14:24:07  2021-01-09 15:17:54   \n",
              "6  09275CC10F854E9E  electric_bike  2021-01-04 05:05:04  2021-01-04 05:10:39   \n",
              "7  DF7A32A217AEFB14  electric_bike  2021-01-14 15:07:00  2021-01-14 15:13:40   \n",
              "8  C2EFC62379EB716C  electric_bike  2021-01-09 09:57:55  2021-01-09 10:00:26   \n",
              "9  B9F73448DFBE0D45   classic_bike  2021-01-24 19:15:38  2021-01-24 19:22:51   \n",
              "\n",
              "           start_station_name start_station_id        end_station_name  \\\n",
              "0  California Ave & Cortez St            17660                     NaN   \n",
              "1  California Ave & Cortez St            17660                     NaN   \n",
              "2  California Ave & Cortez St            17660                     NaN   \n",
              "3  California Ave & Cortez St            17660                     NaN   \n",
              "4  California Ave & Cortez St            17660                     NaN   \n",
              "5  California Ave & Cortez St            17660                     NaN   \n",
              "6  California Ave & Cortez St            17660                     NaN   \n",
              "7  California Ave & Cortez St            17660                     NaN   \n",
              "8  California Ave & Cortez St            17660                     NaN   \n",
              "9  California Ave & Cortez St            17660  Wood St & Augusta Blvd   \n",
              "\n",
              "  end_station_id  start_lat  start_lng    end_lat  end_lng member_casual  \n",
              "0            NaN  41.900341 -87.696743  41.890000 -87.7200        member  \n",
              "1            NaN  41.900333 -87.696707  41.900000 -87.6900        member  \n",
              "2            NaN  41.900313 -87.696643  41.900000 -87.7000        member  \n",
              "3            NaN  41.900399 -87.696662  41.920000 -87.6900        member  \n",
              "4            NaN  41.900326 -87.696697  41.900000 -87.7000        casual  \n",
              "5            NaN  41.900409 -87.696763  41.940000 -87.7100        casual  \n",
              "6            NaN  41.900391 -87.696757  41.900000 -87.7100        member  \n",
              "7            NaN  41.900390 -87.696728  41.910000 -87.7000        member  \n",
              "8            NaN  41.900306 -87.696796  41.900000 -87.7000        member  \n",
              "9            657  41.900363 -87.696704  41.899181 -87.6722        member  "
            ],
            "text/html": [
              "\n",
              "  <div id=\"df-b1d90361-0834-4628-b9cf-71dab9197088\">\n",
              "    <div class=\"colab-df-container\">\n",
              "      <div>\n",
              "<style scoped>\n",
              "    .dataframe tbody tr th:only-of-type {\n",
              "        vertical-align: middle;\n",
              "    }\n",
              "\n",
              "    .dataframe tbody tr th {\n",
              "        vertical-align: top;\n",
              "    }\n",
              "\n",
              "    .dataframe thead th {\n",
              "        text-align: right;\n",
              "    }\n",
              "</style>\n",
              "<table border=\"1\" class=\"dataframe\">\n",
              "  <thead>\n",
              "    <tr style=\"text-align: right;\">\n",
              "      <th></th>\n",
              "      <th>ride_id</th>\n",
              "      <th>rideable_type</th>\n",
              "      <th>started_at</th>\n",
              "      <th>ended_at</th>\n",
              "      <th>start_station_name</th>\n",
              "      <th>start_station_id</th>\n",
              "      <th>end_station_name</th>\n",
              "      <th>end_station_id</th>\n",
              "      <th>start_lat</th>\n",
              "      <th>start_lng</th>\n",
              "      <th>end_lat</th>\n",
              "      <th>end_lng</th>\n",
              "      <th>member_casual</th>\n",
              "    </tr>\n",
              "  </thead>\n",
              "  <tbody>\n",
              "    <tr>\n",
              "      <th>0</th>\n",
              "      <td>E19E6F1B8D4C42ED</td>\n",
              "      <td>electric_bike</td>\n",
              "      <td>2021-01-23 16:14:19</td>\n",
              "      <td>2021-01-23 16:24:44</td>\n",
              "      <td>California Ave &amp; Cortez St</td>\n",
              "      <td>17660</td>\n",
              "      <td>NaN</td>\n",
              "      <td>NaN</td>\n",
              "      <td>41.900341</td>\n",
              "      <td>-87.696743</td>\n",
              "      <td>41.890000</td>\n",
              "      <td>-87.7200</td>\n",
              "      <td>member</td>\n",
              "    </tr>\n",
              "    <tr>\n",
              "      <th>1</th>\n",
              "      <td>DC88F20C2C55F27F</td>\n",
              "      <td>electric_bike</td>\n",
              "      <td>2021-01-27 18:43:08</td>\n",
              "      <td>2021-01-27 18:47:12</td>\n",
              "      <td>California Ave &amp; Cortez St</td>\n",
              "      <td>17660</td>\n",
              "      <td>NaN</td>\n",
              "      <td>NaN</td>\n",
              "      <td>41.900333</td>\n",
              "      <td>-87.696707</td>\n",
              "      <td>41.900000</td>\n",
              "      <td>-87.6900</td>\n",
              "      <td>member</td>\n",
              "    </tr>\n",
              "    <tr>\n",
              "      <th>2</th>\n",
              "      <td>EC45C94683FE3F27</td>\n",
              "      <td>electric_bike</td>\n",
              "      <td>2021-01-21 22:35:54</td>\n",
              "      <td>2021-01-21 22:37:14</td>\n",
              "      <td>California Ave &amp; Cortez St</td>\n",
              "      <td>17660</td>\n",
              "      <td>NaN</td>\n",
              "      <td>NaN</td>\n",
              "      <td>41.900313</td>\n",
              "      <td>-87.696643</td>\n",
              "      <td>41.900000</td>\n",
              "      <td>-87.7000</td>\n",
              "      <td>member</td>\n",
              "    </tr>\n",
              "    <tr>\n",
              "      <th>3</th>\n",
              "      <td>4FA453A75AE377DB</td>\n",
              "      <td>electric_bike</td>\n",
              "      <td>2021-01-07 13:31:13</td>\n",
              "      <td>2021-01-07 13:42:55</td>\n",
              "      <td>California Ave &amp; Cortez St</td>\n",
              "      <td>17660</td>\n",
              "      <td>NaN</td>\n",
              "      <td>NaN</td>\n",
              "      <td>41.900399</td>\n",
              "      <td>-87.696662</td>\n",
              "      <td>41.920000</td>\n",
              "      <td>-87.6900</td>\n",
              "      <td>member</td>\n",
              "    </tr>\n",
              "    <tr>\n",
              "      <th>4</th>\n",
              "      <td>BE5E8EB4E7263A0B</td>\n",
              "      <td>electric_bike</td>\n",
              "      <td>2021-01-23 02:24:02</td>\n",
              "      <td>2021-01-23 02:24:45</td>\n",
              "      <td>California Ave &amp; Cortez St</td>\n",
              "      <td>17660</td>\n",
              "      <td>NaN</td>\n",
              "      <td>NaN</td>\n",
              "      <td>41.900326</td>\n",
              "      <td>-87.696697</td>\n",
              "      <td>41.900000</td>\n",
              "      <td>-87.7000</td>\n",
              "      <td>casual</td>\n",
              "    </tr>\n",
              "    <tr>\n",
              "      <th>5</th>\n",
              "      <td>5D8969F88C773979</td>\n",
              "      <td>electric_bike</td>\n",
              "      <td>2021-01-09 14:24:07</td>\n",
              "      <td>2021-01-09 15:17:54</td>\n",
              "      <td>California Ave &amp; Cortez St</td>\n",
              "      <td>17660</td>\n",
              "      <td>NaN</td>\n",
              "      <td>NaN</td>\n",
              "      <td>41.900409</td>\n",
              "      <td>-87.696763</td>\n",
              "      <td>41.940000</td>\n",
              "      <td>-87.7100</td>\n",
              "      <td>casual</td>\n",
              "    </tr>\n",
              "    <tr>\n",
              "      <th>6</th>\n",
              "      <td>09275CC10F854E9E</td>\n",
              "      <td>electric_bike</td>\n",
              "      <td>2021-01-04 05:05:04</td>\n",
              "      <td>2021-01-04 05:10:39</td>\n",
              "      <td>California Ave &amp; Cortez St</td>\n",
              "      <td>17660</td>\n",
              "      <td>NaN</td>\n",
              "      <td>NaN</td>\n",
              "      <td>41.900391</td>\n",
              "      <td>-87.696757</td>\n",
              "      <td>41.900000</td>\n",
              "      <td>-87.7100</td>\n",
              "      <td>member</td>\n",
              "    </tr>\n",
              "    <tr>\n",
              "      <th>7</th>\n",
              "      <td>DF7A32A217AEFB14</td>\n",
              "      <td>electric_bike</td>\n",
              "      <td>2021-01-14 15:07:00</td>\n",
              "      <td>2021-01-14 15:13:40</td>\n",
              "      <td>California Ave &amp; Cortez St</td>\n",
              "      <td>17660</td>\n",
              "      <td>NaN</td>\n",
              "      <td>NaN</td>\n",
              "      <td>41.900390</td>\n",
              "      <td>-87.696728</td>\n",
              "      <td>41.910000</td>\n",
              "      <td>-87.7000</td>\n",
              "      <td>member</td>\n",
              "    </tr>\n",
              "    <tr>\n",
              "      <th>8</th>\n",
              "      <td>C2EFC62379EB716C</td>\n",
              "      <td>electric_bike</td>\n",
              "      <td>2021-01-09 09:57:55</td>\n",
              "      <td>2021-01-09 10:00:26</td>\n",
              "      <td>California Ave &amp; Cortez St</td>\n",
              "      <td>17660</td>\n",
              "      <td>NaN</td>\n",
              "      <td>NaN</td>\n",
              "      <td>41.900306</td>\n",
              "      <td>-87.696796</td>\n",
              "      <td>41.900000</td>\n",
              "      <td>-87.7000</td>\n",
              "      <td>member</td>\n",
              "    </tr>\n",
              "    <tr>\n",
              "      <th>9</th>\n",
              "      <td>B9F73448DFBE0D45</td>\n",
              "      <td>classic_bike</td>\n",
              "      <td>2021-01-24 19:15:38</td>\n",
              "      <td>2021-01-24 19:22:51</td>\n",
              "      <td>California Ave &amp; Cortez St</td>\n",
              "      <td>17660</td>\n",
              "      <td>Wood St &amp; Augusta Blvd</td>\n",
              "      <td>657</td>\n",
              "      <td>41.900363</td>\n",
              "      <td>-87.696704</td>\n",
              "      <td>41.899181</td>\n",
              "      <td>-87.6722</td>\n",
              "      <td>member</td>\n",
              "    </tr>\n",
              "  </tbody>\n",
              "</table>\n",
              "</div>\n",
              "      <button class=\"colab-df-convert\" onclick=\"convertToInteractive('df-b1d90361-0834-4628-b9cf-71dab9197088')\"\n",
              "              title=\"Convert this dataframe to an interactive table.\"\n",
              "              style=\"display:none;\">\n",
              "        \n",
              "  <svg xmlns=\"http://www.w3.org/2000/svg\" height=\"24px\"viewBox=\"0 0 24 24\"\n",
              "       width=\"24px\">\n",
              "    <path d=\"M0 0h24v24H0V0z\" fill=\"none\"/>\n",
              "    <path d=\"M18.56 5.44l.94 2.06.94-2.06 2.06-.94-2.06-.94-.94-2.06-.94 2.06-2.06.94zm-11 1L8.5 8.5l.94-2.06 2.06-.94-2.06-.94L8.5 2.5l-.94 2.06-2.06.94zm10 10l.94 2.06.94-2.06 2.06-.94-2.06-.94-.94-2.06-.94 2.06-2.06.94z\"/><path d=\"M17.41 7.96l-1.37-1.37c-.4-.4-.92-.59-1.43-.59-.52 0-1.04.2-1.43.59L10.3 9.45l-7.72 7.72c-.78.78-.78 2.05 0 2.83L4 21.41c.39.39.9.59 1.41.59.51 0 1.02-.2 1.41-.59l7.78-7.78 2.81-2.81c.8-.78.8-2.07 0-2.86zM5.41 20L4 18.59l7.72-7.72 1.47 1.35L5.41 20z\"/>\n",
              "  </svg>\n",
              "      </button>\n",
              "      \n",
              "  <style>\n",
              "    .colab-df-container {\n",
              "      display:flex;\n",
              "      flex-wrap:wrap;\n",
              "      gap: 12px;\n",
              "    }\n",
              "\n",
              "    .colab-df-convert {\n",
              "      background-color: #E8F0FE;\n",
              "      border: none;\n",
              "      border-radius: 50%;\n",
              "      cursor: pointer;\n",
              "      display: none;\n",
              "      fill: #1967D2;\n",
              "      height: 32px;\n",
              "      padding: 0 0 0 0;\n",
              "      width: 32px;\n",
              "    }\n",
              "\n",
              "    .colab-df-convert:hover {\n",
              "      background-color: #E2EBFA;\n",
              "      box-shadow: 0px 1px 2px rgba(60, 64, 67, 0.3), 0px 1px 3px 1px rgba(60, 64, 67, 0.15);\n",
              "      fill: #174EA6;\n",
              "    }\n",
              "\n",
              "    [theme=dark] .colab-df-convert {\n",
              "      background-color: #3B4455;\n",
              "      fill: #D2E3FC;\n",
              "    }\n",
              "\n",
              "    [theme=dark] .colab-df-convert:hover {\n",
              "      background-color: #434B5C;\n",
              "      box-shadow: 0px 1px 3px 1px rgba(0, 0, 0, 0.15);\n",
              "      filter: drop-shadow(0px 1px 2px rgba(0, 0, 0, 0.3));\n",
              "      fill: #FFFFFF;\n",
              "    }\n",
              "  </style>\n",
              "\n",
              "      <script>\n",
              "        const buttonEl =\n",
              "          document.querySelector('#df-b1d90361-0834-4628-b9cf-71dab9197088 button.colab-df-convert');\n",
              "        buttonEl.style.display =\n",
              "          google.colab.kernel.accessAllowed ? 'block' : 'none';\n",
              "\n",
              "        async function convertToInteractive(key) {\n",
              "          const element = document.querySelector('#df-b1d90361-0834-4628-b9cf-71dab9197088');\n",
              "          const dataTable =\n",
              "            await google.colab.kernel.invokeFunction('convertToInteractive',\n",
              "                                                     [key], {});\n",
              "          if (!dataTable) return;\n",
              "\n",
              "          const docLinkHtml = 'Like what you see? Visit the ' +\n",
              "            '<a target=\"_blank\" href=https://colab.research.google.com/notebooks/data_table.ipynb>data table notebook</a>'\n",
              "            + ' to learn more about interactive tables.';\n",
              "          element.innerHTML = '';\n",
              "          dataTable['output_type'] = 'display_data';\n",
              "          await google.colab.output.renderOutput(dataTable, element);\n",
              "          const docLink = document.createElement('div');\n",
              "          docLink.innerHTML = docLinkHtml;\n",
              "          element.appendChild(docLink);\n",
              "        }\n",
              "      </script>\n",
              "    </div>\n",
              "  </div>\n",
              "  "
            ]
          },
          "metadata": {},
          "execution_count": 6
        }
      ]
    },
    {
      "cell_type": "code",
      "source": [
        "df.columns"
      ],
      "metadata": {
        "colab": {
          "base_uri": "https://localhost:8080/"
        },
        "id": "p4p_EG1F7gT6",
        "outputId": "52992969-9600-4df4-ccc5-44562c0c07de"
      },
      "execution_count": 7,
      "outputs": [
        {
          "output_type": "execute_result",
          "data": {
            "text/plain": [
              "Index(['ride_id', 'rideable_type', 'started_at', 'ended_at',\n",
              "       'start_station_name', 'start_station_id', 'end_station_name',\n",
              "       'end_station_id', 'start_lat', 'start_lng', 'end_lat', 'end_lng',\n",
              "       'member_casual'],\n",
              "      dtype='object')"
            ]
          },
          "metadata": {},
          "execution_count": 7
        }
      ]
    },
    {
      "cell_type": "code",
      "source": [
        "df = df[['ride_id','rideable_type','started_at','ended_at','start_station_name','start_station_id','end_station_name','end_station_id','member_casual']]"
      ],
      "metadata": {
        "id": "4jDulsYV7sQS"
      },
      "execution_count": 8,
      "outputs": []
    },
    {
      "cell_type": "code",
      "source": [
        "df.shape"
      ],
      "metadata": {
        "colab": {
          "base_uri": "https://localhost:8080/"
        },
        "id": "QdfNhHYg7-j-",
        "outputId": "124d8180-2f6c-46a3-f3a5-f46ba3a55d9a"
      },
      "execution_count": 9,
      "outputs": [
        {
          "output_type": "execute_result",
          "data": {
            "text/plain": [
              "(5595063, 9)"
            ]
          },
          "metadata": {},
          "execution_count": 9
        }
      ]
    },
    {
      "cell_type": "code",
      "source": [
        "df.isna().sum()"
      ],
      "metadata": {
        "colab": {
          "base_uri": "https://localhost:8080/"
        },
        "id": "jm_r1CGo8Ezi",
        "outputId": "f74f39c0-b0e5-43b2-a01d-3cd8b306759b"
      },
      "execution_count": 10,
      "outputs": [
        {
          "output_type": "execute_result",
          "data": {
            "text/plain": [
              "ride_id                    0\n",
              "rideable_type              0\n",
              "started_at                 0\n",
              "ended_at                   0\n",
              "start_station_name    690809\n",
              "start_station_id      690806\n",
              "end_station_name      739170\n",
              "end_station_id        739170\n",
              "member_casual              0\n",
              "dtype: int64"
            ]
          },
          "metadata": {},
          "execution_count": 10
        }
      ]
    },
    {
      "cell_type": "code",
      "source": [
        "df_index = df[df['started_at'] > df['ended_at']].index\n",
        "df_index"
      ],
      "metadata": {
        "id": "rT4oPLTt8Quo",
        "colab": {
          "base_uri": "https://localhost:8080/"
        },
        "outputId": "8e4a7eb8-a372-4abf-8ffc-76f4be4af221"
      },
      "execution_count": 11,
      "outputs": [
        {
          "output_type": "execute_result",
          "data": {
            "text/plain": [
              "Int64Index([  6592,  35752,  39317, 120830,  22361,  31844, 292566, 292678,\n",
              "            293033, 313131,\n",
              "            ...\n",
              "            322473, 336821, 337602, 339421, 343088, 346070, 355161, 357132,\n",
              "            358579, 359949],\n",
              "           dtype='int64', length=147)"
            ]
          },
          "metadata": {},
          "execution_count": 11
        }
      ]
    },
    {
      "cell_type": "code",
      "source": [
        "df_temp = df.drop(df_index)\n",
        "df_temp.shape"
      ],
      "metadata": {
        "colab": {
          "base_uri": "https://localhost:8080/"
        },
        "id": "evrlDmvQcxUU",
        "outputId": "d5b40088-61c5-40ad-af74-b743e88445ac"
      },
      "execution_count": 12,
      "outputs": [
        {
          "output_type": "execute_result",
          "data": {
            "text/plain": [
              "(5593819, 9)"
            ]
          },
          "metadata": {},
          "execution_count": 12
        }
      ]
    },
    {
      "cell_type": "code",
      "source": [
        "df = df_temp"
      ],
      "metadata": {
        "id": "GS8hOJcReqIg"
      },
      "execution_count": 13,
      "outputs": []
    },
    {
      "cell_type": "code",
      "source": [
        "df['ride_length'] = pd.to_datetime(df['ended_at'].values) - pd.to_datetime(df['started_at'].values)\n",
        "type(df['ride_length'].values[0])\n",
        "df['ride_length'] = df['ride_length'].astype('timedelta64[m]')"
      ],
      "metadata": {
        "id": "B1elLMytfCZJ"
      },
      "execution_count": 14,
      "outputs": []
    },
    {
      "cell_type": "code",
      "source": [
        "# df_ride_index = df[df['ride_length'] == '0 days 00:00:00'].index\n",
        "zero_ride = df[df['ride_length'] <= 0].index"
      ],
      "metadata": {
        "id": "S1ASwwJCf5B-"
      },
      "execution_count": 15,
      "outputs": []
    },
    {
      "cell_type": "code",
      "source": [
        "df = df.drop(zero_ride)"
      ],
      "metadata": {
        "id": "8N21XXx3garG"
      },
      "execution_count": 16,
      "outputs": []
    },
    {
      "cell_type": "code",
      "source": [
        "df"
      ],
      "metadata": {
        "colab": {
          "base_uri": "https://localhost:8080/",
          "height": 835
        },
        "id": "wMBdlqWajrLt",
        "outputId": "d61c01a9-1c94-4152-c5b9-2a9e08a08768"
      },
      "execution_count": 17,
      "outputs": [
        {
          "output_type": "execute_result",
          "data": {
            "text/plain": [
              "                 ride_id  rideable_type           started_at  \\\n",
              "0       E19E6F1B8D4C42ED  electric_bike  2021-01-23 16:14:19   \n",
              "1       DC88F20C2C55F27F  electric_bike  2021-01-27 18:43:08   \n",
              "2       EC45C94683FE3F27  electric_bike  2021-01-21 22:35:54   \n",
              "3       4FA453A75AE377DB  electric_bike  2021-01-07 13:31:13   \n",
              "9       B9F73448DFBE0D45   classic_bike  2021-01-24 19:15:38   \n",
              "...                  ...            ...                  ...   \n",
              "247535  847431F3D5353AB7  electric_bike  2021-12-12 13:36:55   \n",
              "247536  CF407BBC3B9FAD63  electric_bike  2021-12-06 19:37:50   \n",
              "247537  60BB69EBF5440E92  electric_bike  2021-12-02 08:57:04   \n",
              "247538  C414F654A28635B8  electric_bike  2021-12-13 09:00:26   \n",
              "247539  37AC57E34B2E7E97   classic_bike  2021-12-13 08:45:32   \n",
              "\n",
              "                   ended_at           start_station_name start_station_id  \\\n",
              "0       2021-01-23 16:24:44   California Ave & Cortez St            17660   \n",
              "1       2021-01-27 18:47:12   California Ave & Cortez St            17660   \n",
              "2       2021-01-21 22:37:14   California Ave & Cortez St            17660   \n",
              "3       2021-01-07 13:42:55   California Ave & Cortez St            17660   \n",
              "9       2021-01-24 19:22:51   California Ave & Cortez St            17660   \n",
              "...                     ...                          ...              ...   \n",
              "247535  2021-12-12 13:56:08        Canal St & Madison St            13341   \n",
              "247536  2021-12-06 19:44:51        Canal St & Madison St            13341   \n",
              "247537  2021-12-02 09:05:21        Canal St & Madison St            13341   \n",
              "247538  2021-12-13 09:14:39       Lawndale Ave & 16th St            362.0   \n",
              "247539  2021-12-13 08:49:09  Michigan Ave & Jackson Blvd     TA1309000002   \n",
              "\n",
              "                end_station_name end_station_id member_casual  ride_length  \n",
              "0                            NaN            NaN        member         10.0  \n",
              "1                            NaN            NaN        member          4.0  \n",
              "2                            NaN            NaN        member          1.0  \n",
              "3                            NaN            NaN        member         11.0  \n",
              "9         Wood St & Augusta Blvd            657        member          7.0  \n",
              "...                          ...            ...           ...          ...  \n",
              "247535                       NaN            NaN        casual         19.0  \n",
              "247536  Kingsbury St & Kinzie St   KA1503000043        member          7.0  \n",
              "247537   Dearborn St & Monroe St   TA1305000006        member          8.0  \n",
              "247538                       NaN            NaN        member         14.0  \n",
              "247539   Dearborn St & Monroe St   TA1305000006        member          3.0  \n",
              "\n",
              "[4958435 rows x 10 columns]"
            ],
            "text/html": [
              "\n",
              "  <div id=\"df-29c9b7cc-200b-44ae-9267-ee80efce61ab\">\n",
              "    <div class=\"colab-df-container\">\n",
              "      <div>\n",
              "<style scoped>\n",
              "    .dataframe tbody tr th:only-of-type {\n",
              "        vertical-align: middle;\n",
              "    }\n",
              "\n",
              "    .dataframe tbody tr th {\n",
              "        vertical-align: top;\n",
              "    }\n",
              "\n",
              "    .dataframe thead th {\n",
              "        text-align: right;\n",
              "    }\n",
              "</style>\n",
              "<table border=\"1\" class=\"dataframe\">\n",
              "  <thead>\n",
              "    <tr style=\"text-align: right;\">\n",
              "      <th></th>\n",
              "      <th>ride_id</th>\n",
              "      <th>rideable_type</th>\n",
              "      <th>started_at</th>\n",
              "      <th>ended_at</th>\n",
              "      <th>start_station_name</th>\n",
              "      <th>start_station_id</th>\n",
              "      <th>end_station_name</th>\n",
              "      <th>end_station_id</th>\n",
              "      <th>member_casual</th>\n",
              "      <th>ride_length</th>\n",
              "    </tr>\n",
              "  </thead>\n",
              "  <tbody>\n",
              "    <tr>\n",
              "      <th>0</th>\n",
              "      <td>E19E6F1B8D4C42ED</td>\n",
              "      <td>electric_bike</td>\n",
              "      <td>2021-01-23 16:14:19</td>\n",
              "      <td>2021-01-23 16:24:44</td>\n",
              "      <td>California Ave &amp; Cortez St</td>\n",
              "      <td>17660</td>\n",
              "      <td>NaN</td>\n",
              "      <td>NaN</td>\n",
              "      <td>member</td>\n",
              "      <td>10.0</td>\n",
              "    </tr>\n",
              "    <tr>\n",
              "      <th>1</th>\n",
              "      <td>DC88F20C2C55F27F</td>\n",
              "      <td>electric_bike</td>\n",
              "      <td>2021-01-27 18:43:08</td>\n",
              "      <td>2021-01-27 18:47:12</td>\n",
              "      <td>California Ave &amp; Cortez St</td>\n",
              "      <td>17660</td>\n",
              "      <td>NaN</td>\n",
              "      <td>NaN</td>\n",
              "      <td>member</td>\n",
              "      <td>4.0</td>\n",
              "    </tr>\n",
              "    <tr>\n",
              "      <th>2</th>\n",
              "      <td>EC45C94683FE3F27</td>\n",
              "      <td>electric_bike</td>\n",
              "      <td>2021-01-21 22:35:54</td>\n",
              "      <td>2021-01-21 22:37:14</td>\n",
              "      <td>California Ave &amp; Cortez St</td>\n",
              "      <td>17660</td>\n",
              "      <td>NaN</td>\n",
              "      <td>NaN</td>\n",
              "      <td>member</td>\n",
              "      <td>1.0</td>\n",
              "    </tr>\n",
              "    <tr>\n",
              "      <th>3</th>\n",
              "      <td>4FA453A75AE377DB</td>\n",
              "      <td>electric_bike</td>\n",
              "      <td>2021-01-07 13:31:13</td>\n",
              "      <td>2021-01-07 13:42:55</td>\n",
              "      <td>California Ave &amp; Cortez St</td>\n",
              "      <td>17660</td>\n",
              "      <td>NaN</td>\n",
              "      <td>NaN</td>\n",
              "      <td>member</td>\n",
              "      <td>11.0</td>\n",
              "    </tr>\n",
              "    <tr>\n",
              "      <th>9</th>\n",
              "      <td>B9F73448DFBE0D45</td>\n",
              "      <td>classic_bike</td>\n",
              "      <td>2021-01-24 19:15:38</td>\n",
              "      <td>2021-01-24 19:22:51</td>\n",
              "      <td>California Ave &amp; Cortez St</td>\n",
              "      <td>17660</td>\n",
              "      <td>Wood St &amp; Augusta Blvd</td>\n",
              "      <td>657</td>\n",
              "      <td>member</td>\n",
              "      <td>7.0</td>\n",
              "    </tr>\n",
              "    <tr>\n",
              "      <th>...</th>\n",
              "      <td>...</td>\n",
              "      <td>...</td>\n",
              "      <td>...</td>\n",
              "      <td>...</td>\n",
              "      <td>...</td>\n",
              "      <td>...</td>\n",
              "      <td>...</td>\n",
              "      <td>...</td>\n",
              "      <td>...</td>\n",
              "      <td>...</td>\n",
              "    </tr>\n",
              "    <tr>\n",
              "      <th>247535</th>\n",
              "      <td>847431F3D5353AB7</td>\n",
              "      <td>electric_bike</td>\n",
              "      <td>2021-12-12 13:36:55</td>\n",
              "      <td>2021-12-12 13:56:08</td>\n",
              "      <td>Canal St &amp; Madison St</td>\n",
              "      <td>13341</td>\n",
              "      <td>NaN</td>\n",
              "      <td>NaN</td>\n",
              "      <td>casual</td>\n",
              "      <td>19.0</td>\n",
              "    </tr>\n",
              "    <tr>\n",
              "      <th>247536</th>\n",
              "      <td>CF407BBC3B9FAD63</td>\n",
              "      <td>electric_bike</td>\n",
              "      <td>2021-12-06 19:37:50</td>\n",
              "      <td>2021-12-06 19:44:51</td>\n",
              "      <td>Canal St &amp; Madison St</td>\n",
              "      <td>13341</td>\n",
              "      <td>Kingsbury St &amp; Kinzie St</td>\n",
              "      <td>KA1503000043</td>\n",
              "      <td>member</td>\n",
              "      <td>7.0</td>\n",
              "    </tr>\n",
              "    <tr>\n",
              "      <th>247537</th>\n",
              "      <td>60BB69EBF5440E92</td>\n",
              "      <td>electric_bike</td>\n",
              "      <td>2021-12-02 08:57:04</td>\n",
              "      <td>2021-12-02 09:05:21</td>\n",
              "      <td>Canal St &amp; Madison St</td>\n",
              "      <td>13341</td>\n",
              "      <td>Dearborn St &amp; Monroe St</td>\n",
              "      <td>TA1305000006</td>\n",
              "      <td>member</td>\n",
              "      <td>8.0</td>\n",
              "    </tr>\n",
              "    <tr>\n",
              "      <th>247538</th>\n",
              "      <td>C414F654A28635B8</td>\n",
              "      <td>electric_bike</td>\n",
              "      <td>2021-12-13 09:00:26</td>\n",
              "      <td>2021-12-13 09:14:39</td>\n",
              "      <td>Lawndale Ave &amp; 16th St</td>\n",
              "      <td>362.0</td>\n",
              "      <td>NaN</td>\n",
              "      <td>NaN</td>\n",
              "      <td>member</td>\n",
              "      <td>14.0</td>\n",
              "    </tr>\n",
              "    <tr>\n",
              "      <th>247539</th>\n",
              "      <td>37AC57E34B2E7E97</td>\n",
              "      <td>classic_bike</td>\n",
              "      <td>2021-12-13 08:45:32</td>\n",
              "      <td>2021-12-13 08:49:09</td>\n",
              "      <td>Michigan Ave &amp; Jackson Blvd</td>\n",
              "      <td>TA1309000002</td>\n",
              "      <td>Dearborn St &amp; Monroe St</td>\n",
              "      <td>TA1305000006</td>\n",
              "      <td>member</td>\n",
              "      <td>3.0</td>\n",
              "    </tr>\n",
              "  </tbody>\n",
              "</table>\n",
              "<p>4958435 rows × 10 columns</p>\n",
              "</div>\n",
              "      <button class=\"colab-df-convert\" onclick=\"convertToInteractive('df-29c9b7cc-200b-44ae-9267-ee80efce61ab')\"\n",
              "              title=\"Convert this dataframe to an interactive table.\"\n",
              "              style=\"display:none;\">\n",
              "        \n",
              "  <svg xmlns=\"http://www.w3.org/2000/svg\" height=\"24px\"viewBox=\"0 0 24 24\"\n",
              "       width=\"24px\">\n",
              "    <path d=\"M0 0h24v24H0V0z\" fill=\"none\"/>\n",
              "    <path d=\"M18.56 5.44l.94 2.06.94-2.06 2.06-.94-2.06-.94-.94-2.06-.94 2.06-2.06.94zm-11 1L8.5 8.5l.94-2.06 2.06-.94-2.06-.94L8.5 2.5l-.94 2.06-2.06.94zm10 10l.94 2.06.94-2.06 2.06-.94-2.06-.94-.94-2.06-.94 2.06-2.06.94z\"/><path d=\"M17.41 7.96l-1.37-1.37c-.4-.4-.92-.59-1.43-.59-.52 0-1.04.2-1.43.59L10.3 9.45l-7.72 7.72c-.78.78-.78 2.05 0 2.83L4 21.41c.39.39.9.59 1.41.59.51 0 1.02-.2 1.41-.59l7.78-7.78 2.81-2.81c.8-.78.8-2.07 0-2.86zM5.41 20L4 18.59l7.72-7.72 1.47 1.35L5.41 20z\"/>\n",
              "  </svg>\n",
              "      </button>\n",
              "      \n",
              "  <style>\n",
              "    .colab-df-container {\n",
              "      display:flex;\n",
              "      flex-wrap:wrap;\n",
              "      gap: 12px;\n",
              "    }\n",
              "\n",
              "    .colab-df-convert {\n",
              "      background-color: #E8F0FE;\n",
              "      border: none;\n",
              "      border-radius: 50%;\n",
              "      cursor: pointer;\n",
              "      display: none;\n",
              "      fill: #1967D2;\n",
              "      height: 32px;\n",
              "      padding: 0 0 0 0;\n",
              "      width: 32px;\n",
              "    }\n",
              "\n",
              "    .colab-df-convert:hover {\n",
              "      background-color: #E2EBFA;\n",
              "      box-shadow: 0px 1px 2px rgba(60, 64, 67, 0.3), 0px 1px 3px 1px rgba(60, 64, 67, 0.15);\n",
              "      fill: #174EA6;\n",
              "    }\n",
              "\n",
              "    [theme=dark] .colab-df-convert {\n",
              "      background-color: #3B4455;\n",
              "      fill: #D2E3FC;\n",
              "    }\n",
              "\n",
              "    [theme=dark] .colab-df-convert:hover {\n",
              "      background-color: #434B5C;\n",
              "      box-shadow: 0px 1px 3px 1px rgba(0, 0, 0, 0.15);\n",
              "      filter: drop-shadow(0px 1px 2px rgba(0, 0, 0, 0.3));\n",
              "      fill: #FFFFFF;\n",
              "    }\n",
              "  </style>\n",
              "\n",
              "      <script>\n",
              "        const buttonEl =\n",
              "          document.querySelector('#df-29c9b7cc-200b-44ae-9267-ee80efce61ab button.colab-df-convert');\n",
              "        buttonEl.style.display =\n",
              "          google.colab.kernel.accessAllowed ? 'block' : 'none';\n",
              "\n",
              "        async function convertToInteractive(key) {\n",
              "          const element = document.querySelector('#df-29c9b7cc-200b-44ae-9267-ee80efce61ab');\n",
              "          const dataTable =\n",
              "            await google.colab.kernel.invokeFunction('convertToInteractive',\n",
              "                                                     [key], {});\n",
              "          if (!dataTable) return;\n",
              "\n",
              "          const docLinkHtml = 'Like what you see? Visit the ' +\n",
              "            '<a target=\"_blank\" href=https://colab.research.google.com/notebooks/data_table.ipynb>data table notebook</a>'\n",
              "            + ' to learn more about interactive tables.';\n",
              "          element.innerHTML = '';\n",
              "          dataTable['output_type'] = 'display_data';\n",
              "          await google.colab.output.renderOutput(dataTable, element);\n",
              "          const docLink = document.createElement('div');\n",
              "          docLink.innerHTML = docLinkHtml;\n",
              "          element.appendChild(docLink);\n",
              "        }\n",
              "      </script>\n",
              "    </div>\n",
              "  </div>\n",
              "  "
            ]
          },
          "metadata": {},
          "execution_count": 17
        }
      ]
    },
    {
      "cell_type": "code",
      "source": [
        "df['member_casual'].value_counts()"
      ],
      "metadata": {
        "colab": {
          "base_uri": "https://localhost:8080/"
        },
        "id": "KYUB_insnD5O",
        "outputId": "a6af23aa-1796-47d4-de0f-9bb6cef160f5"
      },
      "execution_count": 18,
      "outputs": [
        {
          "output_type": "execute_result",
          "data": {
            "text/plain": [
              "member    2704917\n",
              "casual    2253518\n",
              "Name: member_casual, dtype: int64"
            ]
          },
          "metadata": {},
          "execution_count": 18
        }
      ]
    },
    {
      "cell_type": "code",
      "source": [
        "final_df = df[['ride_id','rideable_type', 'started_at', 'ended_at','member_casual', 'ride_length']]"
      ],
      "metadata": {
        "id": "Tll0pNTNnNK-"
      },
      "execution_count": 19,
      "outputs": []
    },
    {
      "cell_type": "code",
      "source": [
        "final_df.shape"
      ],
      "metadata": {
        "colab": {
          "base_uri": "https://localhost:8080/"
        },
        "id": "G8epkZfincWV",
        "outputId": "b7098a08-f4fd-46ed-8a2d-e71739a00dac"
      },
      "execution_count": 20,
      "outputs": [
        {
          "output_type": "execute_result",
          "data": {
            "text/plain": [
              "(4958435, 6)"
            ]
          },
          "metadata": {},
          "execution_count": 20
        }
      ]
    },
    {
      "cell_type": "code",
      "source": [
        "rideable = final_df.groupby('rideable_type').ride_length.mean()"
      ],
      "metadata": {
        "id": "5IB4MEnep_lZ"
      },
      "execution_count": 21,
      "outputs": []
    },
    {
      "cell_type": "code",
      "source": [
        "rideable"
      ],
      "metadata": {
        "colab": {
          "base_uri": "https://localhost:8080/"
        },
        "id": "SYVSADISqPwj",
        "outputId": "2989994d-c9ee-4776-9bef-e543a0140d90"
      },
      "execution_count": 22,
      "outputs": [
        {
          "output_type": "execute_result",
          "data": {
            "text/plain": [
              "rideable_type\n",
              "classic_bike     19.716872\n",
              "docked_bike      82.018950\n",
              "electric_bike    15.880676\n",
              "Name: ride_length, dtype: float64"
            ]
          },
          "metadata": {},
          "execution_count": 22
        }
      ]
    },
    {
      "cell_type": "code",
      "source": [
        "sns.barplot(x=rideable.index, y=rideable.values)\n",
        "plt.title('Average Ride Length across Bike Category')\n",
        "plt.xlabel('Bike Type')\n",
        "plt.ylabel('Average Ride Length(min.)')\n",
        "plt.show()"
      ],
      "metadata": {
        "colab": {
          "base_uri": "https://localhost:8080/",
          "height": 296
        },
        "id": "BulEdpyNqYSy",
        "outputId": "ccda44c1-7322-421b-c60f-0b0fc3013be6"
      },
      "execution_count": 24,
      "outputs": [
        {
          "output_type": "display_data",
          "data": {
            "text/plain": [
              "<Figure size 432x288 with 1 Axes>"
            ],
            "image/png": "[encoded data removed]"
          },
          "metadata": {
            "needs_background": "light"
          }
        }
      ]
    },
    {
      "cell_type": "code",
      "source": [
        "final_df['member_casual'].value_counts()"
      ],
      "metadata": {
        "colab": {
          "base_uri": "https://localhost:8080/"
        },
        "id": "aBk3nJmFqyrY",
        "outputId": "06e445d3-b434-40d0-c64b-a8c1dc753ad8"
      },
      "execution_count": 25,
      "outputs": [
        {
          "output_type": "execute_result",
          "data": {
            "text/plain": [
              "member    2704917\n",
              "casual    2253518\n",
              "Name: member_casual, dtype: int64"
            ]
          },
          "metadata": {},
          "execution_count": 25
        }
      ]
    },
    {
      "cell_type": "code",
      "source": [
        "sns.barplot(x=final_df['member_casual'].value_counts().index, y=final_df['member_casual'].value_counts())\n",
        "plt.title('Number of Rider Category')\n",
        "plt.xlabel('Rider Category')\n",
        "plt.ylabel('Number of Rider')\n",
        "plt.show()"
      ],
      "metadata": {
        "colab": {
          "base_uri": "https://localhost:8080/",
          "height": 295
        },
        "id": "wK__qQ0JrRO9",
        "outputId": "9b7cc4d9-9d53-466b-92bb-d8d150e7053a"
      },
      "execution_count": 26,
      "outputs": [
        {
          "output_type": "display_data",
          "data": {
            "text/plain": [
              "<Figure size 432x288 with 1 Axes>"
            ],
            "image/png": "[encoded data removed]"
          },
          "metadata": {
            "needs_background": "light"
          }
        }
      ]
    },
    {
      "cell_type": "code",
      "source": [
        "final_df['month'] = pd.DatetimeIndex(df['started_at']).month\n",
        "final_df['month']"
      ],
      "metadata": {
        "colab": {
          "base_uri": "https://localhost:8080/"
        },
        "id": "yRB4HHn3rgVb",
        "outputId": "63364961-a777-4050-d926-bcb773b3d975"
      },
      "execution_count": 27,
      "outputs": [
        {
          "output_type": "stream",
          "name": "stderr",
          "text": [
            "/usr/local/lib/python3.7/dist-packages/ipykernel_launcher.py:1: SettingWithCopyWarning: \n",
            "A value is trying to be set on a copy of a slice from a DataFrame.\n",
            "Try using .loc[row_indexer,col_indexer] = value instead\n",
            "\n",
            "See the caveats in the documentation: https://pandas.pydata.org/pandas-docs/stable/user_guide/indexing.html#returning-a-view-versus-a-copy\n",
            "  \"\"\"Entry point for launching an IPython kernel.\n"
          ]
        },
        {
          "output_type": "execute_result",
          "data": {
            "text/plain": [
              "0          1\n",
              "1          1\n",
              "2          1\n",
              "3          1\n",
              "9          1\n",
              "          ..\n",
              "247535    12\n",
              "247536    12\n",
              "247537    12\n",
              "247538    12\n",
              "247539    12\n",
              "Name: month, Length: 4958435, dtype: int64"
            ]
          },
          "metadata": {},
          "execution_count": 27
        }
      ]
    },
    {
      "cell_type": "code",
      "source": [
        "monthly_avg_ride = final_df.groupby('month').ride_length.mean()"
      ],
      "metadata": {
        "id": "aLIwsT4wsPBE"
      },
      "execution_count": 36,
      "outputs": []
    },
    {
      "cell_type": "markdown",
      "source": [
        ""
      ],
      "metadata": {
        "id": "q0otLwFMjiMr"
      }
    },
    {
      "cell_type": "code",
      "source": [
        "monthly_avg_ride"
      ],
      "metadata": {
        "colab": {
          "base_uri": "https://localhost:8080/"
        },
        "id": "-DIWT0wHs4tw",
        "outputId": "18c80940-0743-4357-c7be-b233be62a591"
      },
      "execution_count": 37,
      "outputs": [
        {
          "output_type": "execute_result",
          "data": {
            "text/plain": [
              "month\n",
              "1     14.907758\n",
              "2     25.173997\n",
              "3     22.677457\n",
              "4     24.041858\n",
              "5     25.719214\n",
              "6     26.103756\n",
              "7     24.175045\n",
              "8     21.461341\n",
              "9     20.317631\n",
              "10    19.048572\n",
              "11    14.668171\n",
              "12    14.129976\n",
              "Name: ride_length, dtype: float64"
            ]
          },
          "metadata": {},
          "execution_count": 37
        }
      ]
    },
    {
      "cell_type": "code",
      "source": [
        "sns.lineplot(x=monthly_avg_ride.index, y=monthly_avg_ride.values, markers=True)\n",
        "plt.title('Average Ride Length across month')\n",
        "plt.xlabel('Month')\n",
        "plt.ylabel('Average Ride Length(min.)')\n",
        "plt.show()"
      ],
      "metadata": {
        "colab": {
          "base_uri": "https://localhost:8080/",
          "height": 295
        },
        "id": "6ncTMMtPtJzT",
        "outputId": "ea9287ba-55ed-42ac-fccf-a834eac87919"
      },
      "execution_count": 38,
      "outputs": [
        {
          "output_type": "display_data",
          "data": {
            "text/plain": [
              "<Figure size 432x288 with 1 Axes>"
            ],
            "image/png": "[encoded data removed]"
          },
          "metadata": {
            "needs_background": "light"
          }
        }
      ]
    },
    {
      "cell_type": "code",
      "source": [
        "monthly_avg_ride = final_df.groupby('month')['ride_length'].mean()\n",
        "monthly_avg_ride\n"
      ],
      "metadata": {
        "colab": {
          "base_uri": "https://localhost:8080/"
        },
        "id": "7v0XTAvmtVsK",
        "outputId": "9ddba2ce-3d35-4c48-eda8-f2923764bbf4"
      },
      "execution_count": 33,
      "outputs": [
        {
          "output_type": "execute_result",
          "data": {
            "text/plain": [
              "month\n",
              "1     14.907758\n",
              "2     25.173997\n",
              "3     22.677457\n",
              "4     24.041858\n",
              "5     25.719214\n",
              "6     26.103756\n",
              "7     24.175045\n",
              "8     21.461341\n",
              "9     20.317631\n",
              "10    19.048572\n",
              "11    14.668171\n",
              "12    14.129976\n",
              "Name: ride_length, dtype: float64"
            ]
          },
          "metadata": {},
          "execution_count": 33
        }
      ]
    },
    {
      "cell_type": "code",
      "source": [
        "sns.barplot(x=monthly_avg_ride.index, y=monthly_avg_ride.values)\n",
        "plt.title('Average Ride Length across month')\n",
        "plt.xlabel('Month')\n",
        "plt.ylabel('Average Ride Length(min.)')\n",
        "plt.show()"
      ],
      "metadata": {
        "colab": {
          "base_uri": "https://localhost:8080/",
          "height": 295
        },
        "id": "F6ZbW4XJheh5",
        "outputId": "748aec2e-2ef6-4a5e-f876-ca55185665ac"
      },
      "execution_count": 39,
      "outputs": [
        {
          "output_type": "display_data",
          "data": {
            "text/plain": [
              "<Figure size 432x288 with 1 Axes>"
            ],
            "image/png": "[encoded data removed]"
          },
          "metadata": {
            "needs_background": "light"
          }
        }
      ]
    },
    {
      "cell_type": "code",
      "source": [
        "date_df =  pd.to_datetime(final_df['started_at']).dt.date\n",
        "date_df\n"
      ],
      "metadata": {
        "colab": {
          "base_uri": "https://localhost:8080/"
        },
        "id": "aCjE7B3gja6l",
        "outputId": "3b252185-a3c1-425c-939f-e59f849633ab"
      },
      "execution_count": 43,
      "outputs": [
        {
          "output_type": "execute_result",
          "data": {
            "text/plain": [
              "0         2021-01-23\n",
              "1         2021-01-27\n",
              "2         2021-01-21\n",
              "3         2021-01-07\n",
              "9         2021-01-24\n",
              "             ...    \n",
              "247535    2021-12-12\n",
              "247536    2021-12-06\n",
              "247537    2021-12-02\n",
              "247538    2021-12-13\n",
              "247539    2021-12-13\n",
              "Name: started_at, Length: 4958435, dtype: object"
            ]
          },
          "metadata": {},
          "execution_count": 43
        }
      ]
    },
    {
      "cell_type": "code",
      "source": [
        "ride_date = final_df.groupby(date_df).ride_id.count()\n",
        "ride_date"
      ],
      "metadata": {
        "colab": {
          "base_uri": "https://localhost:8080/"
        },
        "id": "O6rkO4uekFqv",
        "outputId": "16f950e2-c537-49c4-b281-776712b9bfa6"
      },
      "execution_count": 46,
      "outputs": [
        {
          "output_type": "execute_result",
          "data": {
            "text/plain": [
              "started_at\n",
              "2021-01-01     875\n",
              "2021-01-02    1900\n",
              "2021-01-03    1930\n",
              "2021-01-04    2628\n",
              "2021-01-05    3164\n",
              "              ... \n",
              "2021-12-27    4181\n",
              "2021-12-28    2391\n",
              "2021-12-29    4616\n",
              "2021-12-30    5239\n",
              "2021-12-31    5550\n",
              "Name: ride_id, Length: 365, dtype: int64"
            ]
          },
          "metadata": {},
          "execution_count": 46
        }
      ]
    },
    {
      "cell_type": "code",
      "source": [
        "sns.lineplot(x=ride_date.index, y=ride_date.values)\n",
        "plt.title('NUmber of Ride date wise')\n",
        "plt.show()"
      ],
      "metadata": {
        "colab": {
          "base_uri": "https://localhost:8080/",
          "height": 296
        },
        "id": "pGQO4HtjliXq",
        "outputId": "e06e488c-975c-4f11-b513-a15ed021ed33"
      },
      "execution_count": 58,
      "outputs": [
        {
          "output_type": "display_data",
          "data": {
            "text/plain": [
              "<Figure size 432x288 with 1 Axes>"
            ],
            "image/png": "[encoded data removed]"
          },
          "metadata": {
            "needs_background": "light"
          }
        }
      ]
    },
    {
      "cell_type": "code",
      "source": [
        "monthly_ride_no = final_df.groupby('month').ride_length.count()\n",
        "monthly_ride_no"
      ],
      "metadata": {
        "colab": {
          "base_uri": "https://localhost:8080/"
        },
        "id": "-iwHzfvCl4KF",
        "outputId": "52049a2d-abb6-466a-c347-18aa500b8b7f"
      },
      "execution_count": 54,
      "outputs": [
        {
          "output_type": "execute_result",
          "data": {
            "text/plain": [
              "month\n",
              "1      79281\n",
              "2      38857\n",
              "3     194774\n",
              "4     292610\n",
              "5     469579\n",
              "6     653251\n",
              "7     741453\n",
              "8     724313\n",
              "9     677906\n",
              "10    562010\n",
              "11    312923\n",
              "12    211478\n",
              "Name: ride_length, dtype: int64"
            ]
          },
          "metadata": {},
          "execution_count": 54
        }
      ]
    },
    {
      "cell_type": "code",
      "source": [
        "sns.lineplot(x=monthly_ride_no.index, y=monthly_ride_no.values)\n",
        "plt.title('NUmber of Ride Monthly wise')\n",
        "plt.show()"
      ],
      "metadata": {
        "colab": {
          "base_uri": "https://localhost:8080/",
          "height": 295
        },
        "id": "2KiBApzC_puz",
        "outputId": "4a5452ad-7314-47ee-a51c-ae58d6b962c0"
      },
      "execution_count": 56,
      "outputs": [
        {
          "output_type": "display_data",
          "data": {
            "text/plain": [
              "<Figure size 432x288 with 1 Axes>"
            ],
            "image/png": "[encoded data removed]"
          },
          "metadata": {
            "needs_background": "light"
          }
        }
      ]
    },
    {
      "cell_type": "code",
      "source": [
        ""
      ],
      "metadata": {
        "id": "uW3XsVCo_0mD"
      },
      "execution_count": null,
      "outputs": []
    }
  ]
}