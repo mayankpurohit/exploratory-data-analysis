{
  "nbformat": 4,
  "nbformat_minor": 0,
  "metadata": {
    "colab": {
      "name": "Unicorn_EDA.ipynb",
      "provenance": [],
      "collapsed_sections": [],
      "authorship_tag": "ABX9TyNV24sKkzPC3gYWu4Tgi/kd",
      "include_colab_link": true
    },
    "kernelspec": {
      "name": "python3",
      "display_name": "Python 3"
    },
    "language_info": {
      "name": "python"
    }
  },
  "cells": [
    {
      "cell_type": "markdown",
      "metadata": {
        "id": "view-in-github",
        "colab_type": "text"
      },
      "source": [
        "<a href=\"https://colab.research.google.com/github/mayankpurohit/exploratory-data-analysis/blob/main/Unicorn_EDA.ipynb\" target=\"_parent\"><img src=\"https://colab.research.google.com/assets/colab-badge.svg\" alt=\"Open In Colab\"/></a>"
      ]
    },
    {
      "cell_type": "code",
      "execution_count": 115,
      "metadata": {
        "id": "i0yZCsdukg9e"
      },
      "outputs": [],
      "source": [
        "import numpy as np\n",
        "import pandas as pd\n",
        "import matplotlib.pyplot as plt\n",
        "import seaborn as sns\n",
        "import missingno as msno\n"
      ]
    },
    {
      "cell_type": "code",
      "source": [
        "unicorn_df = pd.read_csv('/content/Unicorn_Companies.csv')\n",
        "unicorn_df.head()"
      ],
      "metadata": {
        "colab": {
          "base_uri": "https://localhost:8080/",
          "height": 424
        },
        "id": "UkJU2qFdlB8w",
        "outputId": "94aaab2d-fcde-433f-d232-63f16c435f68"
      },
      "execution_count": 116,
      "outputs": [
        {
          "output_type": "execute_result",
          "data": {
            "text/plain": [
              "      Company Valuation ($B) Date Joined        Country           City  \\\n",
              "0   Bytedance           $140  04-07-2017          China        Beijing   \n",
              "1      SpaceX         $100.3  12-01-2012  United States      Hawthorne   \n",
              "2      Stripe            $95   1/23/2014  United States  San Francisco   \n",
              "3      Klarna          $45.6  12-12-2011         Sweden      Stockholm   \n",
              "4  Epic Games            $42  10/26/2018  United States           Cary   \n",
              "\n",
              "                  Industry                                  Select Inverstors  \\\n",
              "0  Artificial Intelligence  Sequoia Capital China, SIG Asia Investments, S...   \n",
              "1                    Other  Founders Fund, Draper Fisher Jurvetson, Rothen...   \n",
              "2                  Fintech        Khosla Ventures, LowercaseCapital, capitalG   \n",
              "3                  Fintech  Institutional Venture Partners, Sequoia Capita...   \n",
              "4                    Other              Tencent Holdings, KKR, Smash Ventures   \n",
              "\n",
              "  Founded Year Total Raised Financial Stage Investors Count Deal Terms  \\\n",
              "0         2012       $7.44B             IPO              28          8   \n",
              "1         2002      $6.874B            None              29         12   \n",
              "2         2010      $2.901B           Asset              39         12   \n",
              "3         2005      $3.472B        Acquired              56         13   \n",
              "4         1991      $4.377B        Acquired              25          5   \n",
              "\n",
              "  Portfolio Exits  \n",
              "0               5  \n",
              "1            None  \n",
              "2               1  \n",
              "3               1  \n",
              "4               2  "
            ],
            "text/html": [
              "\n",
              "  <div id=\"df-5ac43fa7-12cc-4a42-95f9-38af285b0a6a\">\n",
              "    <div class=\"colab-df-container\">\n",
              "      <div>\n",
              "<style scoped>\n",
              "    .dataframe tbody tr th:only-of-type {\n",
              "        vertical-align: middle;\n",
              "    }\n",
              "\n",
              "    .dataframe tbody tr th {\n",
              "        vertical-align: top;\n",
              "    }\n",
              "\n",
              "    .dataframe thead th {\n",
              "        text-align: right;\n",
              "    }\n",
              "</style>\n",
              "<table border=\"1\" class=\"dataframe\">\n",
              "  <thead>\n",
              "    <tr style=\"text-align: right;\">\n",
              "      <th></th>\n",
              "      <th>Company</th>\n",
              "      <th>Valuation ($B)</th>\n",
              "      <th>Date Joined</th>\n",
              "      <th>Country</th>\n",
              "      <th>City</th>\n",
              "      <th>Industry</th>\n",
              "      <th>Select Inverstors</th>\n",
              "      <th>Founded Year</th>\n",
              "      <th>Total Raised</th>\n",
              "      <th>Financial Stage</th>\n",
              "      <th>Investors Count</th>\n",
              "      <th>Deal Terms</th>\n",
              "      <th>Portfolio Exits</th>\n",
              "    </tr>\n",
              "  </thead>\n",
              "  <tbody>\n",
              "    <tr>\n",
              "      <th>0</th>\n",
              "      <td>Bytedance</td>\n",
              "      <td>$140</td>\n",
              "      <td>04-07-2017</td>\n",
              "      <td>China</td>\n",
              "      <td>Beijing</td>\n",
              "      <td>Artificial Intelligence</td>\n",
              "      <td>Sequoia Capital China, SIG Asia Investments, S...</td>\n",
              "      <td>2012</td>\n",
              "      <td>$7.44B</td>\n",
              "      <td>IPO</td>\n",
              "      <td>28</td>\n",
              "      <td>8</td>\n",
              "      <td>5</td>\n",
              "    </tr>\n",
              "    <tr>\n",
              "      <th>1</th>\n",
              "      <td>SpaceX</td>\n",
              "      <td>$100.3</td>\n",
              "      <td>12-01-2012</td>\n",
              "      <td>United States</td>\n",
              "      <td>Hawthorne</td>\n",
              "      <td>Other</td>\n",
              "      <td>Founders Fund, Draper Fisher Jurvetson, Rothen...</td>\n",
              "      <td>2002</td>\n",
              "      <td>$6.874B</td>\n",
              "      <td>None</td>\n",
              "      <td>29</td>\n",
              "      <td>12</td>\n",
              "      <td>None</td>\n",
              "    </tr>\n",
              "    <tr>\n",
              "      <th>2</th>\n",
              "      <td>Stripe</td>\n",
              "      <td>$95</td>\n",
              "      <td>1/23/2014</td>\n",
              "      <td>United States</td>\n",
              "      <td>San Francisco</td>\n",
              "      <td>Fintech</td>\n",
              "      <td>Khosla Ventures, LowercaseCapital, capitalG</td>\n",
              "      <td>2010</td>\n",
              "      <td>$2.901B</td>\n",
              "      <td>Asset</td>\n",
              "      <td>39</td>\n",
              "      <td>12</td>\n",
              "      <td>1</td>\n",
              "    </tr>\n",
              "    <tr>\n",
              "      <th>3</th>\n",
              "      <td>Klarna</td>\n",
              "      <td>$45.6</td>\n",
              "      <td>12-12-2011</td>\n",
              "      <td>Sweden</td>\n",
              "      <td>Stockholm</td>\n",
              "      <td>Fintech</td>\n",
              "      <td>Institutional Venture Partners, Sequoia Capita...</td>\n",
              "      <td>2005</td>\n",
              "      <td>$3.472B</td>\n",
              "      <td>Acquired</td>\n",
              "      <td>56</td>\n",
              "      <td>13</td>\n",
              "      <td>1</td>\n",
              "    </tr>\n",
              "    <tr>\n",
              "      <th>4</th>\n",
              "      <td>Epic Games</td>\n",
              "      <td>$42</td>\n",
              "      <td>10/26/2018</td>\n",
              "      <td>United States</td>\n",
              "      <td>Cary</td>\n",
              "      <td>Other</td>\n",
              "      <td>Tencent Holdings, KKR, Smash Ventures</td>\n",
              "      <td>1991</td>\n",
              "      <td>$4.377B</td>\n",
              "      <td>Acquired</td>\n",
              "      <td>25</td>\n",
              "      <td>5</td>\n",
              "      <td>2</td>\n",
              "    </tr>\n",
              "  </tbody>\n",
              "</table>\n",
              "</div>\n",
              "      <button class=\"colab-df-convert\" onclick=\"convertToInteractive('df-5ac43fa7-12cc-4a42-95f9-38af285b0a6a')\"\n",
              "              title=\"Convert this dataframe to an interactive table.\"\n",
              "              style=\"display:none;\">\n",
              "        \n",
              "  <svg xmlns=\"http://www.w3.org/2000/svg\" height=\"24px\"viewBox=\"0 0 24 24\"\n",
              "       width=\"24px\">\n",
              "    <path d=\"M0 0h24v24H0V0z\" fill=\"none\"/>\n",
              "    <path d=\"M18.56 5.44l.94 2.06.94-2.06 2.06-.94-2.06-.94-.94-2.06-.94 2.06-2.06.94zm-11 1L8.5 8.5l.94-2.06 2.06-.94-2.06-.94L8.5 2.5l-.94 2.06-2.06.94zm10 10l.94 2.06.94-2.06 2.06-.94-2.06-.94-.94-2.06-.94 2.06-2.06.94z\"/><path d=\"M17.41 7.96l-1.37-1.37c-.4-.4-.92-.59-1.43-.59-.52 0-1.04.2-1.43.59L10.3 9.45l-7.72 7.72c-.78.78-.78 2.05 0 2.83L4 21.41c.39.39.9.59 1.41.59.51 0 1.02-.2 1.41-.59l7.78-7.78 2.81-2.81c.8-.78.8-2.07 0-2.86zM5.41 20L4 18.59l7.72-7.72 1.47 1.35L5.41 20z\"/>\n",
              "  </svg>\n",
              "      </button>\n",
              "      \n",
              "  <style>\n",
              "    .colab-df-container {\n",
              "      display:flex;\n",
              "      flex-wrap:wrap;\n",
              "      gap: 12px;\n",
              "    }\n",
              "\n",
              "    .colab-df-convert {\n",
              "      background-color: #E8F0FE;\n",
              "      border: none;\n",
              "      border-radius: 50%;\n",
              "      cursor: pointer;\n",
              "      display: none;\n",
              "      fill: #1967D2;\n",
              "      height: 32px;\n",
              "      padding: 0 0 0 0;\n",
              "      width: 32px;\n",
              "    }\n",
              "\n",
              "    .colab-df-convert:hover {\n",
              "      background-color: #E2EBFA;\n",
              "      box-shadow: 0px 1px 2px rgba(60, 64, 67, 0.3), 0px 1px 3px 1px rgba(60, 64, 67, 0.15);\n",
              "      fill: #174EA6;\n",
              "    }\n",
              "\n",
              "    [theme=dark] .colab-df-convert {\n",
              "      background-color: #3B4455;\n",
              "      fill: #D2E3FC;\n",
              "    }\n",
              "\n",
              "    [theme=dark] .colab-df-convert:hover {\n",
              "      background-color: #434B5C;\n",
              "      box-shadow: 0px 1px 3px 1px rgba(0, 0, 0, 0.15);\n",
              "      filter: drop-shadow(0px 1px 2px rgba(0, 0, 0, 0.3));\n",
              "      fill: #FFFFFF;\n",
              "    }\n",
              "  </style>\n",
              "\n",
              "      <script>\n",
              "        const buttonEl =\n",
              "          document.querySelector('#df-5ac43fa7-12cc-4a42-95f9-38af285b0a6a button.colab-df-convert');\n",
              "        buttonEl.style.display =\n",
              "          google.colab.kernel.accessAllowed ? 'block' : 'none';\n",
              "\n",
              "        async function convertToInteractive(key) {\n",
              "          const element = document.querySelector('#df-5ac43fa7-12cc-4a42-95f9-38af285b0a6a');\n",
              "          const dataTable =\n",
              "            await google.colab.kernel.invokeFunction('convertToInteractive',\n",
              "                                                     [key], {});\n",
              "          if (!dataTable) return;\n",
              "\n",
              "          const docLinkHtml = 'Like what you see? Visit the ' +\n",
              "            '<a target=\"_blank\" href=https://colab.research.google.com/notebooks/data_table.ipynb>data table notebook</a>'\n",
              "            + ' to learn more about interactive tables.';\n",
              "          element.innerHTML = '';\n",
              "          dataTable['output_type'] = 'display_data';\n",
              "          await google.colab.output.renderOutput(dataTable, element);\n",
              "          const docLink = document.createElement('div');\n",
              "          docLink.innerHTML = docLinkHtml;\n",
              "          element.appendChild(docLink);\n",
              "        }\n",
              "      </script>\n",
              "    </div>\n",
              "  </div>\n",
              "  "
            ]
          },
          "metadata": {},
          "execution_count": 116
        }
      ]
    },
    {
      "cell_type": "code",
      "source": [
        "unicorn_df.shape"
      ],
      "metadata": {
        "colab": {
          "base_uri": "https://localhost:8080/"
        },
        "id": "X_6KO0QRlpkS",
        "outputId": "7e00a13d-956d-4808-cbe9-a02ac6ae9548"
      },
      "execution_count": 117,
      "outputs": [
        {
          "output_type": "execute_result",
          "data": {
            "text/plain": [
              "(1037, 13)"
            ]
          },
          "metadata": {},
          "execution_count": 117
        }
      ]
    },
    {
      "cell_type": "code",
      "source": [
        "unicorn_df.info()"
      ],
      "metadata": {
        "colab": {
          "base_uri": "https://localhost:8080/"
        },
        "id": "yRDqzcVKlwJn",
        "outputId": "b076dab4-b2b6-4cf6-a947-65bed271da1d"
      },
      "execution_count": 118,
      "outputs": [
        {
          "output_type": "stream",
          "name": "stdout",
          "text": [
            "<class 'pandas.core.frame.DataFrame'>\n",
            "RangeIndex: 1037 entries, 0 to 1036\n",
            "Data columns (total 13 columns):\n",
            " #   Column             Non-Null Count  Dtype \n",
            "---  ------             --------------  ----- \n",
            " 0   Company            1037 non-null   object\n",
            " 1   Valuation ($B)     1037 non-null   object\n",
            " 2   Date Joined        1037 non-null   object\n",
            " 3   Country            1037 non-null   object\n",
            " 4   City               1037 non-null   object\n",
            " 5   Industry           1037 non-null   object\n",
            " 6   Select Inverstors  1037 non-null   object\n",
            " 7   Founded Year       1037 non-null   object\n",
            " 8   Total Raised       1037 non-null   object\n",
            " 9   Financial Stage    1037 non-null   object\n",
            " 10  Investors Count    1037 non-null   object\n",
            " 11  Deal Terms         1037 non-null   object\n",
            " 12  Portfolio Exits    1037 non-null   object\n",
            "dtypes: object(13)\n",
            "memory usage: 105.4+ KB\n"
          ]
        }
      ]
    },
    {
      "cell_type": "code",
      "source": [
        "unicorn_df.isna().sum()"
      ],
      "metadata": {
        "colab": {
          "base_uri": "https://localhost:8080/"
        },
        "id": "6sLDsXvIl1E6",
        "outputId": "23bd68e1-da5e-42ef-aee4-2bb8d4b0b63e"
      },
      "execution_count": 119,
      "outputs": [
        {
          "output_type": "execute_result",
          "data": {
            "text/plain": [
              "Company              0\n",
              "Valuation ($B)       0\n",
              "Date Joined          0\n",
              "Country              0\n",
              "City                 0\n",
              "Industry             0\n",
              "Select Inverstors    0\n",
              "Founded Year         0\n",
              "Total Raised         0\n",
              "Financial Stage      0\n",
              "Investors Count      0\n",
              "Deal Terms           0\n",
              "Portfolio Exits      0\n",
              "dtype: int64"
            ]
          },
          "metadata": {},
          "execution_count": 119
        }
      ]
    },
    {
      "cell_type": "code",
      "source": [
        "unicorn_df.dtypes"
      ],
      "metadata": {
        "colab": {
          "base_uri": "https://localhost:8080/"
        },
        "id": "PckNumoWl5mv",
        "outputId": "7e2ae061-750d-4452-aa3e-4f0a1a5385d4"
      },
      "execution_count": 120,
      "outputs": [
        {
          "output_type": "execute_result",
          "data": {
            "text/plain": [
              "Company              object\n",
              "Valuation ($B)       object\n",
              "Date Joined          object\n",
              "Country              object\n",
              "City                 object\n",
              "Industry             object\n",
              "Select Inverstors    object\n",
              "Founded Year         object\n",
              "Total Raised         object\n",
              "Financial Stage      object\n",
              "Investors Count      object\n",
              "Deal Terms           object\n",
              "Portfolio Exits      object\n",
              "dtype: object"
            ]
          },
          "metadata": {},
          "execution_count": 120
        }
      ]
    },
    {
      "cell_type": "code",
      "source": [
        "unicorn_df.describe()"
      ],
      "metadata": {
        "colab": {
          "base_uri": "https://localhost:8080/",
          "height": 254
        },
        "id": "AxFwHr1ol9EX",
        "outputId": "e5ab1503-1e4a-44ed-cdff-6dd74a7a5da0"
      },
      "execution_count": 121,
      "outputs": [
        {
          "output_type": "execute_result",
          "data": {
            "text/plain": [
              "       Company Valuation ($B) Date Joined        Country           City  \\\n",
              "count     1037           1037        1037           1037           1037   \n",
              "unique    1035            200         623             46            254   \n",
              "top       Bolt             $1   7/13/2021  United States  San Francisco   \n",
              "freq         2            244           9            536            145   \n",
              "\n",
              "       Industry Select Inverstors Founded Year Total Raised Financial Stage  \\\n",
              "count      1037              1037         1037         1037            1037   \n",
              "unique       18              1009           37          914              10   \n",
              "top     Fintech              None         2015         None            None   \n",
              "freq        210                 4          144           24             988   \n",
              "\n",
              "       Investors Count Deal Terms Portfolio Exits  \n",
              "count             1037       1037            1037  \n",
              "unique              54         16               5  \n",
              "top                 10          1            None  \n",
              "freq                69        280             988  "
            ],
            "text/html": [
              "\n",
              "  <div id=\"df-3f01eeb6-c343-4bea-896c-81b7740aa22b\">\n",
              "    <div class=\"colab-df-container\">\n",
              "      <div>\n",
              "<style scoped>\n",
              "    .dataframe tbody tr th:only-of-type {\n",
              "        vertical-align: middle;\n",
              "    }\n",
              "\n",
              "    .dataframe tbody tr th {\n",
              "        vertical-align: top;\n",
              "    }\n",
              "\n",
              "    .dataframe thead th {\n",
              "        text-align: right;\n",
              "    }\n",
              "</style>\n",
              "<table border=\"1\" class=\"dataframe\">\n",
              "  <thead>\n",
              "    <tr style=\"text-align: right;\">\n",
              "      <th></th>\n",
              "      <th>Company</th>\n",
              "      <th>Valuation ($B)</th>\n",
              "      <th>Date Joined</th>\n",
              "      <th>Country</th>\n",
              "      <th>City</th>\n",
              "      <th>Industry</th>\n",
              "      <th>Select Inverstors</th>\n",
              "      <th>Founded Year</th>\n",
              "      <th>Total Raised</th>\n",
              "      <th>Financial Stage</th>\n",
              "      <th>Investors Count</th>\n",
              "      <th>Deal Terms</th>\n",
              "      <th>Portfolio Exits</th>\n",
              "    </tr>\n",
              "  </thead>\n",
              "  <tbody>\n",
              "    <tr>\n",
              "      <th>count</th>\n",
              "      <td>1037</td>\n",
              "      <td>1037</td>\n",
              "      <td>1037</td>\n",
              "      <td>1037</td>\n",
              "      <td>1037</td>\n",
              "      <td>1037</td>\n",
              "      <td>1037</td>\n",
              "      <td>1037</td>\n",
              "      <td>1037</td>\n",
              "      <td>1037</td>\n",
              "      <td>1037</td>\n",
              "      <td>1037</td>\n",
              "      <td>1037</td>\n",
              "    </tr>\n",
              "    <tr>\n",
              "      <th>unique</th>\n",
              "      <td>1035</td>\n",
              "      <td>200</td>\n",
              "      <td>623</td>\n",
              "      <td>46</td>\n",
              "      <td>254</td>\n",
              "      <td>18</td>\n",
              "      <td>1009</td>\n",
              "      <td>37</td>\n",
              "      <td>914</td>\n",
              "      <td>10</td>\n",
              "      <td>54</td>\n",
              "      <td>16</td>\n",
              "      <td>5</td>\n",
              "    </tr>\n",
              "    <tr>\n",
              "      <th>top</th>\n",
              "      <td>Bolt</td>\n",
              "      <td>$1</td>\n",
              "      <td>7/13/2021</td>\n",
              "      <td>United States</td>\n",
              "      <td>San Francisco</td>\n",
              "      <td>Fintech</td>\n",
              "      <td>None</td>\n",
              "      <td>2015</td>\n",
              "      <td>None</td>\n",
              "      <td>None</td>\n",
              "      <td>10</td>\n",
              "      <td>1</td>\n",
              "      <td>None</td>\n",
              "    </tr>\n",
              "    <tr>\n",
              "      <th>freq</th>\n",
              "      <td>2</td>\n",
              "      <td>244</td>\n",
              "      <td>9</td>\n",
              "      <td>536</td>\n",
              "      <td>145</td>\n",
              "      <td>210</td>\n",
              "      <td>4</td>\n",
              "      <td>144</td>\n",
              "      <td>24</td>\n",
              "      <td>988</td>\n",
              "      <td>69</td>\n",
              "      <td>280</td>\n",
              "      <td>988</td>\n",
              "    </tr>\n",
              "  </tbody>\n",
              "</table>\n",
              "</div>\n",
              "      <button class=\"colab-df-convert\" onclick=\"convertToInteractive('df-3f01eeb6-c343-4bea-896c-81b7740aa22b')\"\n",
              "              title=\"Convert this dataframe to an interactive table.\"\n",
              "              style=\"display:none;\">\n",
              "        \n",
              "  <svg xmlns=\"http://www.w3.org/2000/svg\" height=\"24px\"viewBox=\"0 0 24 24\"\n",
              "       width=\"24px\">\n",
              "    <path d=\"M0 0h24v24H0V0z\" fill=\"none\"/>\n",
              "    <path d=\"M18.56 5.44l.94 2.06.94-2.06 2.06-.94-2.06-.94-.94-2.06-.94 2.06-2.06.94zm-11 1L8.5 8.5l.94-2.06 2.06-.94-2.06-.94L8.5 2.5l-.94 2.06-2.06.94zm10 10l.94 2.06.94-2.06 2.06-.94-2.06-.94-.94-2.06-.94 2.06-2.06.94z\"/><path d=\"M17.41 7.96l-1.37-1.37c-.4-.4-.92-.59-1.43-.59-.52 0-1.04.2-1.43.59L10.3 9.45l-7.72 7.72c-.78.78-.78 2.05 0 2.83L4 21.41c.39.39.9.59 1.41.59.51 0 1.02-.2 1.41-.59l7.78-7.78 2.81-2.81c.8-.78.8-2.07 0-2.86zM5.41 20L4 18.59l7.72-7.72 1.47 1.35L5.41 20z\"/>\n",
              "  </svg>\n",
              "      </button>\n",
              "      \n",
              "  <style>\n",
              "    .colab-df-container {\n",
              "      display:flex;\n",
              "      flex-wrap:wrap;\n",
              "      gap: 12px;\n",
              "    }\n",
              "\n",
              "    .colab-df-convert {\n",
              "      background-color: #E8F0FE;\n",
              "      border: none;\n",
              "      border-radius: 50%;\n",
              "      cursor: pointer;\n",
              "      display: none;\n",
              "      fill: #1967D2;\n",
              "      height: 32px;\n",
              "      padding: 0 0 0 0;\n",
              "      width: 32px;\n",
              "    }\n",
              "\n",
              "    .colab-df-convert:hover {\n",
              "      background-color: #E2EBFA;\n",
              "      box-shadow: 0px 1px 2px rgba(60, 64, 67, 0.3), 0px 1px 3px 1px rgba(60, 64, 67, 0.15);\n",
              "      fill: #174EA6;\n",
              "    }\n",
              "\n",
              "    [theme=dark] .colab-df-convert {\n",
              "      background-color: #3B4455;\n",
              "      fill: #D2E3FC;\n",
              "    }\n",
              "\n",
              "    [theme=dark] .colab-df-convert:hover {\n",
              "      background-color: #434B5C;\n",
              "      box-shadow: 0px 1px 3px 1px rgba(0, 0, 0, 0.15);\n",
              "      filter: drop-shadow(0px 1px 2px rgba(0, 0, 0, 0.3));\n",
              "      fill: #FFFFFF;\n",
              "    }\n",
              "  </style>\n",
              "\n",
              "      <script>\n",
              "        const buttonEl =\n",
              "          document.querySelector('#df-3f01eeb6-c343-4bea-896c-81b7740aa22b button.colab-df-convert');\n",
              "        buttonEl.style.display =\n",
              "          google.colab.kernel.accessAllowed ? 'block' : 'none';\n",
              "\n",
              "        async function convertToInteractive(key) {\n",
              "          const element = document.querySelector('#df-3f01eeb6-c343-4bea-896c-81b7740aa22b');\n",
              "          const dataTable =\n",
              "            await google.colab.kernel.invokeFunction('convertToInteractive',\n",
              "                                                     [key], {});\n",
              "          if (!dataTable) return;\n",
              "\n",
              "          const docLinkHtml = 'Like what you see? Visit the ' +\n",
              "            '<a target=\"_blank\" href=https://colab.research.google.com/notebooks/data_table.ipynb>data table notebook</a>'\n",
              "            + ' to learn more about interactive tables.';\n",
              "          element.innerHTML = '';\n",
              "          dataTable['output_type'] = 'display_data';\n",
              "          await google.colab.output.renderOutput(dataTable, element);\n",
              "          const docLink = document.createElement('div');\n",
              "          docLink.innerHTML = docLinkHtml;\n",
              "          element.appendChild(docLink);\n",
              "        }\n",
              "      </script>\n",
              "    </div>\n",
              "  </div>\n",
              "  "
            ]
          },
          "metadata": {},
          "execution_count": 121
        }
      ]
    },
    {
      "cell_type": "code",
      "source": [
        "unicorn_df['Date Joined'] = pd.to_datetime(unicorn_df['Date Joined'])"
      ],
      "metadata": {
        "id": "Q73s7PZ6nAFy"
      },
      "execution_count": 122,
      "outputs": []
    },
    {
      "cell_type": "code",
      "source": [
        "unicorn_df['Select Inverstors'].value_counts()"
      ],
      "metadata": {
        "colab": {
          "base_uri": "https://localhost:8080/"
        },
        "id": "lps7VPoU8Dtp",
        "outputId": "0e833a89-37bc-4a2e-bcd8-be2895533b1d"
      },
      "execution_count": 123,
      "outputs": [
        {
          "output_type": "execute_result",
          "data": {
            "text/plain": [
              "None                                                              4\n",
              "Sequoia Capital                                                   3\n",
              "Tiger Global Management, Sequoia Capital India, Ribbit Capital    2\n",
              "Hopu Investment Management, Boyu Capital, DC Thomson Ventures     2\n",
              "Undisclosed                                                       2\n",
              "                                                                 ..\n",
              "Google Ventures, Index Ventures, Scale Venture Partners           1\n",
              "RedBird Capital Partners, CJ ENM, Tencent Holdings                1\n",
              "Relay Ventures, TTV Capital, Canapi Ventures                      1\n",
              "Temasek, Google Ventures, General Catalyst                        1\n",
              "Zeev Ventures, Bond, Fifth Wall Ventures                          1\n",
              "Name: Select Inverstors, Length: 1009, dtype: int64"
            ]
          },
          "metadata": {},
          "execution_count": 123
        }
      ]
    },
    {
      "cell_type": "code",
      "source": [
        "unicorn_df['Industry'].value_counts()"
      ],
      "metadata": {
        "colab": {
          "base_uri": "https://localhost:8080/"
        },
        "id": "1EMhQYeaAStI",
        "outputId": "38956e82-ded7-4d3d-d68a-71415598c89c"
      },
      "execution_count": 136,
      "outputs": [
        {
          "output_type": "execute_result",
          "data": {
            "text/plain": [
              "Fintech                                213\n",
              "Internet software & services           194\n",
              "E-commerce & direct-to-consumer        110\n",
              "Artificial Intelligence                 80\n",
              "Health                                  69\n",
              "Supply chain, logistics, & delivery     58\n",
              "Other                                   56\n",
              "Cybersecurity                           49\n",
              "Data management & analytics             41\n",
              "Mobile & telecommunications             38\n",
              "Hardware                                33\n",
              "Auto & transportation                   29\n",
              "Edtech                                  28\n",
              "Consumer & retail                       25\n",
              "Travel                                  14\n",
              "Name: Industry, dtype: int64"
            ]
          },
          "metadata": {},
          "execution_count": 136
        }
      ]
    },
    {
      "cell_type": "code",
      "source": [
        "unicorn_df[unicorn_df['Industry'] == 'Sequoia Capital China, ING, Alibaba Entrepreneurs Fund']"
      ],
      "metadata": {
        "colab": {
          "base_uri": "https://localhost:8080/",
          "height": 177
        },
        "id": "RXXCPPwxUqM7",
        "outputId": "9c878a22-89a8-4cd1-cce2-af30ff69f8a3"
      },
      "execution_count": 133,
      "outputs": [
        {
          "output_type": "execute_result",
          "data": {
            "text/plain": [
              "    Company Valuation ($B) Date Joined    Country     City  \\\n",
              "814   WeLab             $1  2017-11-08  Hong Kong  Fintech   \n",
              "\n",
              "                                              Industry Select Inverstors  \\\n",
              "814  Sequoia Capital China, ING, Alibaba Entreprene...              None   \n",
              "\n",
              "    Founded Year Total Raised Financial Stage Investors Count Deal Terms  \\\n",
              "814         2013        $896M            None              13          3   \n",
              "\n",
              "    Portfolio Exits  \n",
              "814            None  "
            ],
            "text/html": [
              "\n",
              "  <div id=\"df-3a0c97fd-b89b-4b39-8333-3aced13de1f3\">\n",
              "    <div class=\"colab-df-container\">\n",
              "      <div>\n",
              "<style scoped>\n",
              "    .dataframe tbody tr th:only-of-type {\n",
              "        vertical-align: middle;\n",
              "    }\n",
              "\n",
              "    .dataframe tbody tr th {\n",
              "        vertical-align: top;\n",
              "    }\n",
              "\n",
              "    .dataframe thead th {\n",
              "        text-align: right;\n",
              "    }\n",
              "</style>\n",
              "<table border=\"1\" class=\"dataframe\">\n",
              "  <thead>\n",
              "    <tr style=\"text-align: right;\">\n",
              "      <th></th>\n",
              "      <th>Company</th>\n",
              "      <th>Valuation ($B)</th>\n",
              "      <th>Date Joined</th>\n",
              "      <th>Country</th>\n",
              "      <th>City</th>\n",
              "      <th>Industry</th>\n",
              "      <th>Select Inverstors</th>\n",
              "      <th>Founded Year</th>\n",
              "      <th>Total Raised</th>\n",
              "      <th>Financial Stage</th>\n",
              "      <th>Investors Count</th>\n",
              "      <th>Deal Terms</th>\n",
              "      <th>Portfolio Exits</th>\n",
              "    </tr>\n",
              "  </thead>\n",
              "  <tbody>\n",
              "    <tr>\n",
              "      <th>814</th>\n",
              "      <td>WeLab</td>\n",
              "      <td>$1</td>\n",
              "      <td>2017-11-08</td>\n",
              "      <td>Hong Kong</td>\n",
              "      <td>Fintech</td>\n",
              "      <td>Sequoia Capital China, ING, Alibaba Entreprene...</td>\n",
              "      <td>None</td>\n",
              "      <td>2013</td>\n",
              "      <td>$896M</td>\n",
              "      <td>None</td>\n",
              "      <td>13</td>\n",
              "      <td>3</td>\n",
              "      <td>None</td>\n",
              "    </tr>\n",
              "  </tbody>\n",
              "</table>\n",
              "</div>\n",
              "      <button class=\"colab-df-convert\" onclick=\"convertToInteractive('df-3a0c97fd-b89b-4b39-8333-3aced13de1f3')\"\n",
              "              title=\"Convert this dataframe to an interactive table.\"\n",
              "              style=\"display:none;\">\n",
              "        \n",
              "  <svg xmlns=\"http://www.w3.org/2000/svg\" height=\"24px\"viewBox=\"0 0 24 24\"\n",
              "       width=\"24px\">\n",
              "    <path d=\"M0 0h24v24H0V0z\" fill=\"none\"/>\n",
              "    <path d=\"M18.56 5.44l.94 2.06.94-2.06 2.06-.94-2.06-.94-.94-2.06-.94 2.06-2.06.94zm-11 1L8.5 8.5l.94-2.06 2.06-.94-2.06-.94L8.5 2.5l-.94 2.06-2.06.94zm10 10l.94 2.06.94-2.06 2.06-.94-2.06-.94-.94-2.06-.94 2.06-2.06.94z\"/><path d=\"M17.41 7.96l-1.37-1.37c-.4-.4-.92-.59-1.43-.59-.52 0-1.04.2-1.43.59L10.3 9.45l-7.72 7.72c-.78.78-.78 2.05 0 2.83L4 21.41c.39.39.9.59 1.41.59.51 0 1.02-.2 1.41-.59l7.78-7.78 2.81-2.81c.8-.78.8-2.07 0-2.86zM5.41 20L4 18.59l7.72-7.72 1.47 1.35L5.41 20z\"/>\n",
              "  </svg>\n",
              "      </button>\n",
              "      \n",
              "  <style>\n",
              "    .colab-df-container {\n",
              "      display:flex;\n",
              "      flex-wrap:wrap;\n",
              "      gap: 12px;\n",
              "    }\n",
              "\n",
              "    .colab-df-convert {\n",
              "      background-color: #E8F0FE;\n",
              "      border: none;\n",
              "      border-radius: 50%;\n",
              "      cursor: pointer;\n",
              "      display: none;\n",
              "      fill: #1967D2;\n",
              "      height: 32px;\n",
              "      padding: 0 0 0 0;\n",
              "      width: 32px;\n",
              "    }\n",
              "\n",
              "    .colab-df-convert:hover {\n",
              "      background-color: #E2EBFA;\n",
              "      box-shadow: 0px 1px 2px rgba(60, 64, 67, 0.3), 0px 1px 3px 1px rgba(60, 64, 67, 0.15);\n",
              "      fill: #174EA6;\n",
              "    }\n",
              "\n",
              "    [theme=dark] .colab-df-convert {\n",
              "      background-color: #3B4455;\n",
              "      fill: #D2E3FC;\n",
              "    }\n",
              "\n",
              "    [theme=dark] .colab-df-convert:hover {\n",
              "      background-color: #434B5C;\n",
              "      box-shadow: 0px 1px 3px 1px rgba(0, 0, 0, 0.15);\n",
              "      filter: drop-shadow(0px 1px 2px rgba(0, 0, 0, 0.3));\n",
              "      fill: #FFFFFF;\n",
              "    }\n",
              "  </style>\n",
              "\n",
              "      <script>\n",
              "        const buttonEl =\n",
              "          document.querySelector('#df-3a0c97fd-b89b-4b39-8333-3aced13de1f3 button.colab-df-convert');\n",
              "        buttonEl.style.display =\n",
              "          google.colab.kernel.accessAllowed ? 'block' : 'none';\n",
              "\n",
              "        async function convertToInteractive(key) {\n",
              "          const element = document.querySelector('#df-3a0c97fd-b89b-4b39-8333-3aced13de1f3');\n",
              "          const dataTable =\n",
              "            await google.colab.kernel.invokeFunction('convertToInteractive',\n",
              "                                                     [key], {});\n",
              "          if (!dataTable) return;\n",
              "\n",
              "          const docLinkHtml = 'Like what you see? Visit the ' +\n",
              "            '<a target=\"_blank\" href=https://colab.research.google.com/notebooks/data_table.ipynb>data table notebook</a>'\n",
              "            + ' to learn more about interactive tables.';\n",
              "          element.innerHTML = '';\n",
              "          dataTable['output_type'] = 'display_data';\n",
              "          await google.colab.output.renderOutput(dataTable, element);\n",
              "          const docLink = document.createElement('div');\n",
              "          docLink.innerHTML = docLinkHtml;\n",
              "          element.appendChild(docLink);\n",
              "        }\n",
              "      </script>\n",
              "    </div>\n",
              "  </div>\n",
              "  "
            ]
          },
          "metadata": {},
          "execution_count": 133
        }
      ]
    },
    {
      "cell_type": "code",
      "source": [
        "unicorn_df.iloc[814]"
      ],
      "metadata": {
        "colab": {
          "base_uri": "https://localhost:8080/"
        },
        "id": "-XU3E8efUqFK",
        "outputId": "c79076a9-0df6-4b61-dd2b-623e1d7d366a"
      },
      "execution_count": 134,
      "outputs": [
        {
          "output_type": "execute_result",
          "data": {
            "text/plain": [
              "Company                                                          WeLab\n",
              "Valuation ($B)                                                      $1\n",
              "Date Joined                                        2017-11-08 00:00:00\n",
              "Country                                                      Hong Kong\n",
              "City                                                           Fintech\n",
              "Industry             Sequoia Capital China, ING, Alibaba Entreprene...\n",
              "Select Inverstors                                                 None\n",
              "Founded Year                                                      2013\n",
              "Total Raised                                                     $896M\n",
              "Financial Stage                                                   None\n",
              "Investors Count                                                     13\n",
              "Deal Terms                                                           3\n",
              "Portfolio Exits                                                   None\n",
              "Name: 814, dtype: object"
            ]
          },
          "metadata": {},
          "execution_count": 134
        }
      ]
    },
    {
      "cell_type": "code",
      "source": [
        "unicorn_df.loc[814,['City','Industry','Select Inverstors']] = ['Hong Kong','Fintech', 'Andreessen Horowitz, DST Global, IDG Capital']"
      ],
      "metadata": {
        "id": "U398CN9iUp8Z"
      },
      "execution_count": 135,
      "outputs": []
    },
    {
      "cell_type": "code",
      "source": [
        "unicorn_df[unicorn_df['Industry'] == 'Tiger Global Management, Tiger Brokers, DCM Ventures']"
      ],
      "metadata": {
        "colab": {
          "base_uri": "https://localhost:8080/",
          "height": 177
        },
        "id": "SJDou3UDUE6l",
        "outputId": "a5fb8be0-6787-4b22-981c-40c8ae04861b"
      },
      "execution_count": 128,
      "outputs": [
        {
          "output_type": "execute_result",
          "data": {
            "text/plain": [
              "         Company Valuation ($B) Date Joined    Country     City  \\\n",
              "292  Amber Group             $3  2021-06-21  Hong Kong  Fintech   \n",
              "\n",
              "                                              Industry Select Inverstors  \\\n",
              "292  Tiger Global Management, Tiger Brokers, DCM Ve...              None   \n",
              "\n",
              "    Founded Year Total Raised Financial Stage Investors Count Deal Terms  \\\n",
              "292         2015        $328M            None              18          3   \n",
              "\n",
              "    Portfolio Exits  \n",
              "292            None  "
            ],
            "text/html": [
              "\n",
              "  <div id=\"df-29842a1e-9f13-49a8-9edb-e3c0c98fe4fa\">\n",
              "    <div class=\"colab-df-container\">\n",
              "      <div>\n",
              "<style scoped>\n",
              "    .dataframe tbody tr th:only-of-type {\n",
              "        vertical-align: middle;\n",
              "    }\n",
              "\n",
              "    .dataframe tbody tr th {\n",
              "        vertical-align: top;\n",
              "    }\n",
              "\n",
              "    .dataframe thead th {\n",
              "        text-align: right;\n",
              "    }\n",
              "</style>\n",
              "<table border=\"1\" class=\"dataframe\">\n",
              "  <thead>\n",
              "    <tr style=\"text-align: right;\">\n",
              "      <th></th>\n",
              "      <th>Company</th>\n",
              "      <th>Valuation ($B)</th>\n",
              "      <th>Date Joined</th>\n",
              "      <th>Country</th>\n",
              "      <th>City</th>\n",
              "      <th>Industry</th>\n",
              "      <th>Select Inverstors</th>\n",
              "      <th>Founded Year</th>\n",
              "      <th>Total Raised</th>\n",
              "      <th>Financial Stage</th>\n",
              "      <th>Investors Count</th>\n",
              "      <th>Deal Terms</th>\n",
              "      <th>Portfolio Exits</th>\n",
              "    </tr>\n",
              "  </thead>\n",
              "  <tbody>\n",
              "    <tr>\n",
              "      <th>292</th>\n",
              "      <td>Amber Group</td>\n",
              "      <td>$3</td>\n",
              "      <td>2021-06-21</td>\n",
              "      <td>Hong Kong</td>\n",
              "      <td>Fintech</td>\n",
              "      <td>Tiger Global Management, Tiger Brokers, DCM Ve...</td>\n",
              "      <td>None</td>\n",
              "      <td>2015</td>\n",
              "      <td>$328M</td>\n",
              "      <td>None</td>\n",
              "      <td>18</td>\n",
              "      <td>3</td>\n",
              "      <td>None</td>\n",
              "    </tr>\n",
              "  </tbody>\n",
              "</table>\n",
              "</div>\n",
              "      <button class=\"colab-df-convert\" onclick=\"convertToInteractive('df-29842a1e-9f13-49a8-9edb-e3c0c98fe4fa')\"\n",
              "              title=\"Convert this dataframe to an interactive table.\"\n",
              "              style=\"display:none;\">\n",
              "        \n",
              "  <svg xmlns=\"http://www.w3.org/2000/svg\" height=\"24px\"viewBox=\"0 0 24 24\"\n",
              "       width=\"24px\">\n",
              "    <path d=\"M0 0h24v24H0V0z\" fill=\"none\"/>\n",
              "    <path d=\"M18.56 5.44l.94 2.06.94-2.06 2.06-.94-2.06-.94-.94-2.06-.94 2.06-2.06.94zm-11 1L8.5 8.5l.94-2.06 2.06-.94-2.06-.94L8.5 2.5l-.94 2.06-2.06.94zm10 10l.94 2.06.94-2.06 2.06-.94-2.06-.94-.94-2.06-.94 2.06-2.06.94z\"/><path d=\"M17.41 7.96l-1.37-1.37c-.4-.4-.92-.59-1.43-.59-.52 0-1.04.2-1.43.59L10.3 9.45l-7.72 7.72c-.78.78-.78 2.05 0 2.83L4 21.41c.39.39.9.59 1.41.59.51 0 1.02-.2 1.41-.59l7.78-7.78 2.81-2.81c.8-.78.8-2.07 0-2.86zM5.41 20L4 18.59l7.72-7.72 1.47 1.35L5.41 20z\"/>\n",
              "  </svg>\n",
              "      </button>\n",
              "      \n",
              "  <style>\n",
              "    .colab-df-container {\n",
              "      display:flex;\n",
              "      flex-wrap:wrap;\n",
              "      gap: 12px;\n",
              "    }\n",
              "\n",
              "    .colab-df-convert {\n",
              "      background-color: #E8F0FE;\n",
              "      border: none;\n",
              "      border-radius: 50%;\n",
              "      cursor: pointer;\n",
              "      display: none;\n",
              "      fill: #1967D2;\n",
              "      height: 32px;\n",
              "      padding: 0 0 0 0;\n",
              "      width: 32px;\n",
              "    }\n",
              "\n",
              "    .colab-df-convert:hover {\n",
              "      background-color: #E2EBFA;\n",
              "      box-shadow: 0px 1px 2px rgba(60, 64, 67, 0.3), 0px 1px 3px 1px rgba(60, 64, 67, 0.15);\n",
              "      fill: #174EA6;\n",
              "    }\n",
              "\n",
              "    [theme=dark] .colab-df-convert {\n",
              "      background-color: #3B4455;\n",
              "      fill: #D2E3FC;\n",
              "    }\n",
              "\n",
              "    [theme=dark] .colab-df-convert:hover {\n",
              "      background-color: #434B5C;\n",
              "      box-shadow: 0px 1px 3px 1px rgba(0, 0, 0, 0.15);\n",
              "      filter: drop-shadow(0px 1px 2px rgba(0, 0, 0, 0.3));\n",
              "      fill: #FFFFFF;\n",
              "    }\n",
              "  </style>\n",
              "\n",
              "      <script>\n",
              "        const buttonEl =\n",
              "          document.querySelector('#df-29842a1e-9f13-49a8-9edb-e3c0c98fe4fa button.colab-df-convert');\n",
              "        buttonEl.style.display =\n",
              "          google.colab.kernel.accessAllowed ? 'block' : 'none';\n",
              "\n",
              "        async function convertToInteractive(key) {\n",
              "          const element = document.querySelector('#df-29842a1e-9f13-49a8-9edb-e3c0c98fe4fa');\n",
              "          const dataTable =\n",
              "            await google.colab.kernel.invokeFunction('convertToInteractive',\n",
              "                                                     [key], {});\n",
              "          if (!dataTable) return;\n",
              "\n",
              "          const docLinkHtml = 'Like what you see? Visit the ' +\n",
              "            '<a target=\"_blank\" href=https://colab.research.google.com/notebooks/data_table.ipynb>data table notebook</a>'\n",
              "            + ' to learn more about interactive tables.';\n",
              "          element.innerHTML = '';\n",
              "          dataTable['output_type'] = 'display_data';\n",
              "          await google.colab.output.renderOutput(dataTable, element);\n",
              "          const docLink = document.createElement('div');\n",
              "          docLink.innerHTML = docLinkHtml;\n",
              "          element.appendChild(docLink);\n",
              "        }\n",
              "      </script>\n",
              "    </div>\n",
              "  </div>\n",
              "  "
            ]
          },
          "metadata": {},
          "execution_count": 128
        }
      ]
    },
    {
      "cell_type": "code",
      "source": [
        "unicorn_df.iloc[292]"
      ],
      "metadata": {
        "colab": {
          "base_uri": "https://localhost:8080/"
        },
        "id": "lVsDr6EFUEjJ",
        "outputId": "90a8194f-31b4-4b37-c293-b78506c69dd1"
      },
      "execution_count": 130,
      "outputs": [
        {
          "output_type": "execute_result",
          "data": {
            "text/plain": [
              "Company                                                    Amber Group\n",
              "Valuation ($B)                                                      $3\n",
              "Date Joined                                        2021-06-21 00:00:00\n",
              "Country                                                      Hong Kong\n",
              "City                                                           Fintech\n",
              "Industry             Tiger Global Management, Tiger Brokers, DCM Ve...\n",
              "Select Inverstors                                                 None\n",
              "Founded Year                                                      2015\n",
              "Total Raised                                                     $328M\n",
              "Financial Stage                                                   None\n",
              "Investors Count                                                     18\n",
              "Deal Terms                                                           3\n",
              "Portfolio Exits                                                   None\n",
              "Name: 292, dtype: object"
            ]
          },
          "metadata": {},
          "execution_count": 130
        }
      ]
    },
    {
      "cell_type": "code",
      "source": [
        "unicorn_df.loc[292,['City','Industry','Select Inverstors']] = ['Hong Kong','Fintech', 'Andreessen Horowitz, DST Global, IDG Capital']"
      ],
      "metadata": {
        "id": "cr5d1MewUEXZ"
      },
      "execution_count": 131,
      "outputs": []
    },
    {
      "cell_type": "code",
      "source": [
        "unicorn_df[unicorn_df['Industry'] == 'Andreessen Horowitz, DST Global, IDG Capital']"
      ],
      "metadata": {
        "colab": {
          "base_uri": "https://localhost:8080/",
          "height": 177
        },
        "id": "9BWTFYtsAhEY",
        "outputId": "8adeff5c-ba69-40ee-deb7-e9b4f95a68f0"
      },
      "execution_count": 125,
      "outputs": [
        {
          "output_type": "execute_result",
          "data": {
            "text/plain": [
              "    Company Valuation ($B) Date Joined    Country  \\\n",
              "951   Cider             $1  2021-09-02  Hong Kong   \n",
              "\n",
              "                                City  \\\n",
              "951  E-commerce & direct-to-consumer   \n",
              "\n",
              "                                         Industry Select Inverstors  \\\n",
              "951  Andreessen Horowitz, DST Global, IDG Capital              None   \n",
              "\n",
              "    Founded Year Total Raised Financial Stage Investors Count Deal Terms  \\\n",
              "951         2020     $131.46M            None               8          2   \n",
              "\n",
              "    Portfolio Exits  \n",
              "951            None  "
            ],
            "text/html": [
              "\n",
              "  <div id=\"df-f7a06736-fd22-4554-94ae-537417c79002\">\n",
              "    <div class=\"colab-df-container\">\n",
              "      <div>\n",
              "<style scoped>\n",
              "    .dataframe tbody tr th:only-of-type {\n",
              "        vertical-align: middle;\n",
              "    }\n",
              "\n",
              "    .dataframe tbody tr th {\n",
              "        vertical-align: top;\n",
              "    }\n",
              "\n",
              "    .dataframe thead th {\n",
              "        text-align: right;\n",
              "    }\n",
              "</style>\n",
              "<table border=\"1\" class=\"dataframe\">\n",
              "  <thead>\n",
              "    <tr style=\"text-align: right;\">\n",
              "      <th></th>\n",
              "      <th>Company</th>\n",
              "      <th>Valuation ($B)</th>\n",
              "      <th>Date Joined</th>\n",
              "      <th>Country</th>\n",
              "      <th>City</th>\n",
              "      <th>Industry</th>\n",
              "      <th>Select Inverstors</th>\n",
              "      <th>Founded Year</th>\n",
              "      <th>Total Raised</th>\n",
              "      <th>Financial Stage</th>\n",
              "      <th>Investors Count</th>\n",
              "      <th>Deal Terms</th>\n",
              "      <th>Portfolio Exits</th>\n",
              "    </tr>\n",
              "  </thead>\n",
              "  <tbody>\n",
              "    <tr>\n",
              "      <th>951</th>\n",
              "      <td>Cider</td>\n",
              "      <td>$1</td>\n",
              "      <td>2021-09-02</td>\n",
              "      <td>Hong Kong</td>\n",
              "      <td>E-commerce &amp; direct-to-consumer</td>\n",
              "      <td>Andreessen Horowitz, DST Global, IDG Capital</td>\n",
              "      <td>None</td>\n",
              "      <td>2020</td>\n",
              "      <td>$131.46M</td>\n",
              "      <td>None</td>\n",
              "      <td>8</td>\n",
              "      <td>2</td>\n",
              "      <td>None</td>\n",
              "    </tr>\n",
              "  </tbody>\n",
              "</table>\n",
              "</div>\n",
              "      <button class=\"colab-df-convert\" onclick=\"convertToInteractive('df-f7a06736-fd22-4554-94ae-537417c79002')\"\n",
              "              title=\"Convert this dataframe to an interactive table.\"\n",
              "              style=\"display:none;\">\n",
              "        \n",
              "  <svg xmlns=\"http://www.w3.org/2000/svg\" height=\"24px\"viewBox=\"0 0 24 24\"\n",
              "       width=\"24px\">\n",
              "    <path d=\"M0 0h24v24H0V0z\" fill=\"none\"/>\n",
              "    <path d=\"M18.56 5.44l.94 2.06.94-2.06 2.06-.94-2.06-.94-.94-2.06-.94 2.06-2.06.94zm-11 1L8.5 8.5l.94-2.06 2.06-.94-2.06-.94L8.5 2.5l-.94 2.06-2.06.94zm10 10l.94 2.06.94-2.06 2.06-.94-2.06-.94-.94-2.06-.94 2.06-2.06.94z\"/><path d=\"M17.41 7.96l-1.37-1.37c-.4-.4-.92-.59-1.43-.59-.52 0-1.04.2-1.43.59L10.3 9.45l-7.72 7.72c-.78.78-.78 2.05 0 2.83L4 21.41c.39.39.9.59 1.41.59.51 0 1.02-.2 1.41-.59l7.78-7.78 2.81-2.81c.8-.78.8-2.07 0-2.86zM5.41 20L4 18.59l7.72-7.72 1.47 1.35L5.41 20z\"/>\n",
              "  </svg>\n",
              "      </button>\n",
              "      \n",
              "  <style>\n",
              "    .colab-df-container {\n",
              "      display:flex;\n",
              "      flex-wrap:wrap;\n",
              "      gap: 12px;\n",
              "    }\n",
              "\n",
              "    .colab-df-convert {\n",
              "      background-color: #E8F0FE;\n",
              "      border: none;\n",
              "      border-radius: 50%;\n",
              "      cursor: pointer;\n",
              "      display: none;\n",
              "      fill: #1967D2;\n",
              "      height: 32px;\n",
              "      padding: 0 0 0 0;\n",
              "      width: 32px;\n",
              "    }\n",
              "\n",
              "    .colab-df-convert:hover {\n",
              "      background-color: #E2EBFA;\n",
              "      box-shadow: 0px 1px 2px rgba(60, 64, 67, 0.3), 0px 1px 3px 1px rgba(60, 64, 67, 0.15);\n",
              "      fill: #174EA6;\n",
              "    }\n",
              "\n",
              "    [theme=dark] .colab-df-convert {\n",
              "      background-color: #3B4455;\n",
              "      fill: #D2E3FC;\n",
              "    }\n",
              "\n",
              "    [theme=dark] .colab-df-convert:hover {\n",
              "      background-color: #434B5C;\n",
              "      box-shadow: 0px 1px 3px 1px rgba(0, 0, 0, 0.15);\n",
              "      filter: drop-shadow(0px 1px 2px rgba(0, 0, 0, 0.3));\n",
              "      fill: #FFFFFF;\n",
              "    }\n",
              "  </style>\n",
              "\n",
              "      <script>\n",
              "        const buttonEl =\n",
              "          document.querySelector('#df-f7a06736-fd22-4554-94ae-537417c79002 button.colab-df-convert');\n",
              "        buttonEl.style.display =\n",
              "          google.colab.kernel.accessAllowed ? 'block' : 'none';\n",
              "\n",
              "        async function convertToInteractive(key) {\n",
              "          const element = document.querySelector('#df-f7a06736-fd22-4554-94ae-537417c79002');\n",
              "          const dataTable =\n",
              "            await google.colab.kernel.invokeFunction('convertToInteractive',\n",
              "                                                     [key], {});\n",
              "          if (!dataTable) return;\n",
              "\n",
              "          const docLinkHtml = 'Like what you see? Visit the ' +\n",
              "            '<a target=\"_blank\" href=https://colab.research.google.com/notebooks/data_table.ipynb>data table notebook</a>'\n",
              "            + ' to learn more about interactive tables.';\n",
              "          element.innerHTML = '';\n",
              "          dataTable['output_type'] = 'display_data';\n",
              "          await google.colab.output.renderOutput(dataTable, element);\n",
              "          const docLink = document.createElement('div');\n",
              "          docLink.innerHTML = docLinkHtml;\n",
              "          element.appendChild(docLink);\n",
              "        }\n",
              "      </script>\n",
              "    </div>\n",
              "  </div>\n",
              "  "
            ]
          },
          "metadata": {},
          "execution_count": 125
        }
      ]
    },
    {
      "cell_type": "code",
      "source": [
        "unicorn_df.iloc[951]"
      ],
      "metadata": {
        "colab": {
          "base_uri": "https://localhost:8080/"
        },
        "id": "1nf8Bi3oAshh",
        "outputId": "6185f5d4-8e14-4bc4-b625-c16ee30e77df"
      },
      "execution_count": 126,
      "outputs": [
        {
          "output_type": "execute_result",
          "data": {
            "text/plain": [
              "Company                                                     Cider\n",
              "Valuation ($B)                                                 $1\n",
              "Date Joined                                   2021-09-02 00:00:00\n",
              "Country                                                 Hong Kong\n",
              "City                              E-commerce & direct-to-consumer\n",
              "Industry             Andreessen Horowitz, DST Global, IDG Capital\n",
              "Select Inverstors                                            None\n",
              "Founded Year                                                 2020\n",
              "Total Raised                                             $131.46M\n",
              "Financial Stage                                              None\n",
              "Investors Count                                                 8\n",
              "Deal Terms                                                      2\n",
              "Portfolio Exits                                              None\n",
              "Name: 951, dtype: object"
            ]
          },
          "metadata": {},
          "execution_count": 126
        }
      ]
    },
    {
      "cell_type": "code",
      "source": [
        "unicorn_df.loc[951,['City','Industry','Select Inverstors']] = ['Hong Kong','Fintech', 'Andreessen Horowitz, DST Global, IDG Capital']"
      ],
      "metadata": {
        "id": "ZQAjM8nJBB9x"
      },
      "execution_count": 127,
      "outputs": []
    },
    {
      "cell_type": "code",
      "source": [
        "unicorn_df.head(10)"
      ],
      "metadata": {
        "colab": {
          "base_uri": "https://localhost:8080/",
          "height": 737
        },
        "id": "fe0ozJWYBzfW",
        "outputId": "34819ed3-0cfe-477e-cf89-12fe7aa4268b"
      },
      "execution_count": 137,
      "outputs": [
        {
          "output_type": "execute_result",
          "data": {
            "text/plain": [
              "        Company Valuation ($B) Date Joined         Country           City  \\\n",
              "0     Bytedance           $140  2017-04-07           China        Beijing   \n",
              "1        SpaceX         $100.3  2012-12-01   United States      Hawthorne   \n",
              "2        Stripe            $95  2014-01-23   United States  San Francisco   \n",
              "3        Klarna          $45.6  2011-12-12          Sweden      Stockholm   \n",
              "4    Epic Games            $42  2018-10-26   United States           Cary   \n",
              "5         Canva            $40  2018-01-08       Australia    Surry Hills   \n",
              "6  Checkout.com            $40  2019-05-02  United Kingdom         London   \n",
              "7     Instacart            $39  2014-12-30   United States  San Francisco   \n",
              "8    Databricks            $38  2019-02-05   United States  San Francisco   \n",
              "9       Revolut            $33  2018-04-26  United Kingdom         London   \n",
              "\n",
              "                              Industry  \\\n",
              "0              Artificial Intelligence   \n",
              "1                                Other   \n",
              "2                              Fintech   \n",
              "3                              Fintech   \n",
              "4                                Other   \n",
              "5         Internet software & services   \n",
              "6                              Fintech   \n",
              "7  Supply chain, logistics, & delivery   \n",
              "8          Data management & analytics   \n",
              "9                              Fintech   \n",
              "\n",
              "                                   Select Inverstors Founded Year  \\\n",
              "0  Sequoia Capital China, SIG Asia Investments, S...         2012   \n",
              "1  Founders Fund, Draper Fisher Jurvetson, Rothen...         2002   \n",
              "2        Khosla Ventures, LowercaseCapital, capitalG         2010   \n",
              "3  Institutional Venture Partners, Sequoia Capita...         2005   \n",
              "4              Tencent Holdings, KKR, Smash Ventures         1991   \n",
              "5  Sequoia Capital China, Blackbird Ventures, Mat...         2012   \n",
              "6  Tiger Global Management, Insight Partners, DST...         2012   \n",
              "7  Khosla Ventures, Kleiner Perkins Caufield & By...         2012   \n",
              "8  Andreessen Horowitz, New Enterprise Associates...         2013   \n",
              "9         index Ventures, DST Global, Ribbit Capital         2015   \n",
              "\n",
              "  Total Raised Financial Stage Investors Count Deal Terms Portfolio Exits  \n",
              "0       $7.44B             IPO              28          8               5  \n",
              "1      $6.874B            None              29         12            None  \n",
              "2      $2.901B           Asset              39         12               1  \n",
              "3      $3.472B        Acquired              56         13               1  \n",
              "4      $4.377B        Acquired              25          5               2  \n",
              "5     $571.26M            None              26          8            None  \n",
              "6       $1.83B            None              15          4            None  \n",
              "7      $2.686B            None              29         12            None  \n",
              "8      $3.497B            None              29          8            None  \n",
              "9      $1.716B            None              31          6            None  "
            ],
            "text/html": [
              "\n",
              "  <div id=\"df-f66f16f0-d4c0-44f2-9424-6decad401904\">\n",
              "    <div class=\"colab-df-container\">\n",
              "      <div>\n",
              "<style scoped>\n",
              "    .dataframe tbody tr th:only-of-type {\n",
              "        vertical-align: middle;\n",
              "    }\n",
              "\n",
              "    .dataframe tbody tr th {\n",
              "        vertical-align: top;\n",
              "    }\n",
              "\n",
              "    .dataframe thead th {\n",
              "        text-align: right;\n",
              "    }\n",
              "</style>\n",
              "<table border=\"1\" class=\"dataframe\">\n",
              "  <thead>\n",
              "    <tr style=\"text-align: right;\">\n",
              "      <th></th>\n",
              "      <th>Company</th>\n",
              "      <th>Valuation ($B)</th>\n",
              "      <th>Date Joined</th>\n",
              "      <th>Country</th>\n",
              "      <th>City</th>\n",
              "      <th>Industry</th>\n",
              "      <th>Select Inverstors</th>\n",
              "      <th>Founded Year</th>\n",
              "      <th>Total Raised</th>\n",
              "      <th>Financial Stage</th>\n",
              "      <th>Investors Count</th>\n",
              "      <th>Deal Terms</th>\n",
              "      <th>Portfolio Exits</th>\n",
              "    </tr>\n",
              "  </thead>\n",
              "  <tbody>\n",
              "    <tr>\n",
              "      <th>0</th>\n",
              "      <td>Bytedance</td>\n",
              "      <td>$140</td>\n",
              "      <td>2017-04-07</td>\n",
              "      <td>China</td>\n",
              "      <td>Beijing</td>\n",
              "      <td>Artificial Intelligence</td>\n",
              "      <td>Sequoia Capital China, SIG Asia Investments, S...</td>\n",
              "      <td>2012</td>\n",
              "      <td>$7.44B</td>\n",
              "      <td>IPO</td>\n",
              "      <td>28</td>\n",
              "      <td>8</td>\n",
              "      <td>5</td>\n",
              "    </tr>\n",
              "    <tr>\n",
              "      <th>1</th>\n",
              "      <td>SpaceX</td>\n",
              "      <td>$100.3</td>\n",
              "      <td>2012-12-01</td>\n",
              "      <td>United States</td>\n",
              "      <td>Hawthorne</td>\n",
              "      <td>Other</td>\n",
              "      <td>Founders Fund, Draper Fisher Jurvetson, Rothen...</td>\n",
              "      <td>2002</td>\n",
              "      <td>$6.874B</td>\n",
              "      <td>None</td>\n",
              "      <td>29</td>\n",
              "      <td>12</td>\n",
              "      <td>None</td>\n",
              "    </tr>\n",
              "    <tr>\n",
              "      <th>2</th>\n",
              "      <td>Stripe</td>\n",
              "      <td>$95</td>\n",
              "      <td>2014-01-23</td>\n",
              "      <td>United States</td>\n",
              "      <td>San Francisco</td>\n",
              "      <td>Fintech</td>\n",
              "      <td>Khosla Ventures, LowercaseCapital, capitalG</td>\n",
              "      <td>2010</td>\n",
              "      <td>$2.901B</td>\n",
              "      <td>Asset</td>\n",
              "      <td>39</td>\n",
              "      <td>12</td>\n",
              "      <td>1</td>\n",
              "    </tr>\n",
              "    <tr>\n",
              "      <th>3</th>\n",
              "      <td>Klarna</td>\n",
              "      <td>$45.6</td>\n",
              "      <td>2011-12-12</td>\n",
              "      <td>Sweden</td>\n",
              "      <td>Stockholm</td>\n",
              "      <td>Fintech</td>\n",
              "      <td>Institutional Venture Partners, Sequoia Capita...</td>\n",
              "      <td>2005</td>\n",
              "      <td>$3.472B</td>\n",
              "      <td>Acquired</td>\n",
              "      <td>56</td>\n",
              "      <td>13</td>\n",
              "      <td>1</td>\n",
              "    </tr>\n",
              "    <tr>\n",
              "      <th>4</th>\n",
              "      <td>Epic Games</td>\n",
              "      <td>$42</td>\n",
              "      <td>2018-10-26</td>\n",
              "      <td>United States</td>\n",
              "      <td>Cary</td>\n",
              "      <td>Other</td>\n",
              "      <td>Tencent Holdings, KKR, Smash Ventures</td>\n",
              "      <td>1991</td>\n",
              "      <td>$4.377B</td>\n",
              "      <td>Acquired</td>\n",
              "      <td>25</td>\n",
              "      <td>5</td>\n",
              "      <td>2</td>\n",
              "    </tr>\n",
              "    <tr>\n",
              "      <th>5</th>\n",
              "      <td>Canva</td>\n",
              "      <td>$40</td>\n",
              "      <td>2018-01-08</td>\n",
              "      <td>Australia</td>\n",
              "      <td>Surry Hills</td>\n",
              "      <td>Internet software &amp; services</td>\n",
              "      <td>Sequoia Capital China, Blackbird Ventures, Mat...</td>\n",
              "      <td>2012</td>\n",
              "      <td>$571.26M</td>\n",
              "      <td>None</td>\n",
              "      <td>26</td>\n",
              "      <td>8</td>\n",
              "      <td>None</td>\n",
              "    </tr>\n",
              "    <tr>\n",
              "      <th>6</th>\n",
              "      <td>Checkout.com</td>\n",
              "      <td>$40</td>\n",
              "      <td>2019-05-02</td>\n",
              "      <td>United Kingdom</td>\n",
              "      <td>London</td>\n",
              "      <td>Fintech</td>\n",
              "      <td>Tiger Global Management, Insight Partners, DST...</td>\n",
              "      <td>2012</td>\n",
              "      <td>$1.83B</td>\n",
              "      <td>None</td>\n",
              "      <td>15</td>\n",
              "      <td>4</td>\n",
              "      <td>None</td>\n",
              "    </tr>\n",
              "    <tr>\n",
              "      <th>7</th>\n",
              "      <td>Instacart</td>\n",
              "      <td>$39</td>\n",
              "      <td>2014-12-30</td>\n",
              "      <td>United States</td>\n",
              "      <td>San Francisco</td>\n",
              "      <td>Supply chain, logistics, &amp; delivery</td>\n",
              "      <td>Khosla Ventures, Kleiner Perkins Caufield &amp; By...</td>\n",
              "      <td>2012</td>\n",
              "      <td>$2.686B</td>\n",
              "      <td>None</td>\n",
              "      <td>29</td>\n",
              "      <td>12</td>\n",
              "      <td>None</td>\n",
              "    </tr>\n",
              "    <tr>\n",
              "      <th>8</th>\n",
              "      <td>Databricks</td>\n",
              "      <td>$38</td>\n",
              "      <td>2019-02-05</td>\n",
              "      <td>United States</td>\n",
              "      <td>San Francisco</td>\n",
              "      <td>Data management &amp; analytics</td>\n",
              "      <td>Andreessen Horowitz, New Enterprise Associates...</td>\n",
              "      <td>2013</td>\n",
              "      <td>$3.497B</td>\n",
              "      <td>None</td>\n",
              "      <td>29</td>\n",
              "      <td>8</td>\n",
              "      <td>None</td>\n",
              "    </tr>\n",
              "    <tr>\n",
              "      <th>9</th>\n",
              "      <td>Revolut</td>\n",
              "      <td>$33</td>\n",
              "      <td>2018-04-26</td>\n",
              "      <td>United Kingdom</td>\n",
              "      <td>London</td>\n",
              "      <td>Fintech</td>\n",
              "      <td>index Ventures, DST Global, Ribbit Capital</td>\n",
              "      <td>2015</td>\n",
              "      <td>$1.716B</td>\n",
              "      <td>None</td>\n",
              "      <td>31</td>\n",
              "      <td>6</td>\n",
              "      <td>None</td>\n",
              "    </tr>\n",
              "  </tbody>\n",
              "</table>\n",
              "</div>\n",
              "      <button class=\"colab-df-convert\" onclick=\"convertToInteractive('df-f66f16f0-d4c0-44f2-9424-6decad401904')\"\n",
              "              title=\"Convert this dataframe to an interactive table.\"\n",
              "              style=\"display:none;\">\n",
              "        \n",
              "  <svg xmlns=\"http://www.w3.org/2000/svg\" height=\"24px\"viewBox=\"0 0 24 24\"\n",
              "       width=\"24px\">\n",
              "    <path d=\"M0 0h24v24H0V0z\" fill=\"none\"/>\n",
              "    <path d=\"M18.56 5.44l.94 2.06.94-2.06 2.06-.94-2.06-.94-.94-2.06-.94 2.06-2.06.94zm-11 1L8.5 8.5l.94-2.06 2.06-.94-2.06-.94L8.5 2.5l-.94 2.06-2.06.94zm10 10l.94 2.06.94-2.06 2.06-.94-2.06-.94-.94-2.06-.94 2.06-2.06.94z\"/><path d=\"M17.41 7.96l-1.37-1.37c-.4-.4-.92-.59-1.43-.59-.52 0-1.04.2-1.43.59L10.3 9.45l-7.72 7.72c-.78.78-.78 2.05 0 2.83L4 21.41c.39.39.9.59 1.41.59.51 0 1.02-.2 1.41-.59l7.78-7.78 2.81-2.81c.8-.78.8-2.07 0-2.86zM5.41 20L4 18.59l7.72-7.72 1.47 1.35L5.41 20z\"/>\n",
              "  </svg>\n",
              "      </button>\n",
              "      \n",
              "  <style>\n",
              "    .colab-df-container {\n",
              "      display:flex;\n",
              "      flex-wrap:wrap;\n",
              "      gap: 12px;\n",
              "    }\n",
              "\n",
              "    .colab-df-convert {\n",
              "      background-color: #E8F0FE;\n",
              "      border: none;\n",
              "      border-radius: 50%;\n",
              "      cursor: pointer;\n",
              "      display: none;\n",
              "      fill: #1967D2;\n",
              "      height: 32px;\n",
              "      padding: 0 0 0 0;\n",
              "      width: 32px;\n",
              "    }\n",
              "\n",
              "    .colab-df-convert:hover {\n",
              "      background-color: #E2EBFA;\n",
              "      box-shadow: 0px 1px 2px rgba(60, 64, 67, 0.3), 0px 1px 3px 1px rgba(60, 64, 67, 0.15);\n",
              "      fill: #174EA6;\n",
              "    }\n",
              "\n",
              "    [theme=dark] .colab-df-convert {\n",
              "      background-color: #3B4455;\n",
              "      fill: #D2E3FC;\n",
              "    }\n",
              "\n",
              "    [theme=dark] .colab-df-convert:hover {\n",
              "      background-color: #434B5C;\n",
              "      box-shadow: 0px 1px 3px 1px rgba(0, 0, 0, 0.15);\n",
              "      filter: drop-shadow(0px 1px 2px rgba(0, 0, 0, 0.3));\n",
              "      fill: #FFFFFF;\n",
              "    }\n",
              "  </style>\n",
              "\n",
              "      <script>\n",
              "        const buttonEl =\n",
              "          document.querySelector('#df-f66f16f0-d4c0-44f2-9424-6decad401904 button.colab-df-convert');\n",
              "        buttonEl.style.display =\n",
              "          google.colab.kernel.accessAllowed ? 'block' : 'none';\n",
              "\n",
              "        async function convertToInteractive(key) {\n",
              "          const element = document.querySelector('#df-f66f16f0-d4c0-44f2-9424-6decad401904');\n",
              "          const dataTable =\n",
              "            await google.colab.kernel.invokeFunction('convertToInteractive',\n",
              "                                                     [key], {});\n",
              "          if (!dataTable) return;\n",
              "\n",
              "          const docLinkHtml = 'Like what you see? Visit the ' +\n",
              "            '<a target=\"_blank\" href=https://colab.research.google.com/notebooks/data_table.ipynb>data table notebook</a>'\n",
              "            + ' to learn more about interactive tables.';\n",
              "          element.innerHTML = '';\n",
              "          dataTable['output_type'] = 'display_data';\n",
              "          await google.colab.output.renderOutput(dataTable, element);\n",
              "          const docLink = document.createElement('div');\n",
              "          docLink.innerHTML = docLinkHtml;\n",
              "          element.appendChild(docLink);\n",
              "        }\n",
              "      </script>\n",
              "    </div>\n",
              "  </div>\n",
              "  "
            ]
          },
          "metadata": {},
          "execution_count": 137
        }
      ]
    },
    {
      "cell_type": "code",
      "source": [
        "unicorn_df['Valuation ($B)'] = unicorn_df['Valuation ($B)'].replace({'\\$':\"\"}, regex=True)\n",
        "unicorn_df['Valuation ($B)'] = unicorn_df['Valuation ($B)'].astype(float)\n",
        "unicorn_df['Valuation ($B)']\n"
      ],
      "metadata": {
        "colab": {
          "base_uri": "https://localhost:8080/"
        },
        "id": "3_PnBRUGDPOk",
        "outputId": "59ca8a23-a382-4857-cf91-4882dd5116ae"
      },
      "execution_count": 138,
      "outputs": [
        {
          "output_type": "execute_result",
          "data": {
            "text/plain": [
              "0       140.0\n",
              "1       100.3\n",
              "2        95.0\n",
              "3        45.6\n",
              "4        42.0\n",
              "        ...  \n",
              "1032      1.0\n",
              "1033      1.0\n",
              "1034      1.0\n",
              "1035      1.0\n",
              "1036      1.0\n",
              "Name: Valuation ($B), Length: 1037, dtype: float64"
            ]
          },
          "metadata": {},
          "execution_count": 138
        }
      ]
    },
    {
      "cell_type": "code",
      "source": [
        "unicorn_df = unicorn_df[['Company','Valuation ($B)', 'Date Joined', \n",
        "                         'Country', 'City', 'Industry','Select Inverstors',\n",
        "                         'Founded Year', 'Total Raised', 'Investors Count',\n",
        "                         'Deal Terms'\n",
        "                         ]]\n",
        "unicorn_df.head()                         "
      ],
      "metadata": {
        "colab": {
          "base_uri": "https://localhost:8080/",
          "height": 354
        },
        "id": "beItqGrCDaKY",
        "outputId": "2ce489b9-40eb-452f-cd07-5352e1e4e069"
      },
      "execution_count": 139,
      "outputs": [
        {
          "output_type": "execute_result",
          "data": {
            "text/plain": [
              "      Company  Valuation ($B) Date Joined        Country           City  \\\n",
              "0   Bytedance           140.0  2017-04-07          China        Beijing   \n",
              "1      SpaceX           100.3  2012-12-01  United States      Hawthorne   \n",
              "2      Stripe            95.0  2014-01-23  United States  San Francisco   \n",
              "3      Klarna            45.6  2011-12-12         Sweden      Stockholm   \n",
              "4  Epic Games            42.0  2018-10-26  United States           Cary   \n",
              "\n",
              "                  Industry                                  Select Inverstors  \\\n",
              "0  Artificial Intelligence  Sequoia Capital China, SIG Asia Investments, S...   \n",
              "1                    Other  Founders Fund, Draper Fisher Jurvetson, Rothen...   \n",
              "2                  Fintech        Khosla Ventures, LowercaseCapital, capitalG   \n",
              "3                  Fintech  Institutional Venture Partners, Sequoia Capita...   \n",
              "4                    Other              Tencent Holdings, KKR, Smash Ventures   \n",
              "\n",
              "  Founded Year Total Raised Investors Count Deal Terms  \n",
              "0         2012       $7.44B              28          8  \n",
              "1         2002      $6.874B              29         12  \n",
              "2         2010      $2.901B              39         12  \n",
              "3         2005      $3.472B              56         13  \n",
              "4         1991      $4.377B              25          5  "
            ],
            "text/html": [
              "\n",
              "  <div id=\"df-021778fb-02c2-4d60-a9c2-199e5e5d58c5\">\n",
              "    <div class=\"colab-df-container\">\n",
              "      <div>\n",
              "<style scoped>\n",
              "    .dataframe tbody tr th:only-of-type {\n",
              "        vertical-align: middle;\n",
              "    }\n",
              "\n",
              "    .dataframe tbody tr th {\n",
              "        vertical-align: top;\n",
              "    }\n",
              "\n",
              "    .dataframe thead th {\n",
              "        text-align: right;\n",
              "    }\n",
              "</style>\n",
              "<table border=\"1\" class=\"dataframe\">\n",
              "  <thead>\n",
              "    <tr style=\"text-align: right;\">\n",
              "      <th></th>\n",
              "      <th>Company</th>\n",
              "      <th>Valuation ($B)</th>\n",
              "      <th>Date Joined</th>\n",
              "      <th>Country</th>\n",
              "      <th>City</th>\n",
              "      <th>Industry</th>\n",
              "      <th>Select Inverstors</th>\n",
              "      <th>Founded Year</th>\n",
              "      <th>Total Raised</th>\n",
              "      <th>Investors Count</th>\n",
              "      <th>Deal Terms</th>\n",
              "    </tr>\n",
              "  </thead>\n",
              "  <tbody>\n",
              "    <tr>\n",
              "      <th>0</th>\n",
              "      <td>Bytedance</td>\n",
              "      <td>140.0</td>\n",
              "      <td>2017-04-07</td>\n",
              "      <td>China</td>\n",
              "      <td>Beijing</td>\n",
              "      <td>Artificial Intelligence</td>\n",
              "      <td>Sequoia Capital China, SIG Asia Investments, S...</td>\n",
              "      <td>2012</td>\n",
              "      <td>$7.44B</td>\n",
              "      <td>28</td>\n",
              "      <td>8</td>\n",
              "    </tr>\n",
              "    <tr>\n",
              "      <th>1</th>\n",
              "      <td>SpaceX</td>\n",
              "      <td>100.3</td>\n",
              "      <td>2012-12-01</td>\n",
              "      <td>United States</td>\n",
              "      <td>Hawthorne</td>\n",
              "      <td>Other</td>\n",
              "      <td>Founders Fund, Draper Fisher Jurvetson, Rothen...</td>\n",
              "      <td>2002</td>\n",
              "      <td>$6.874B</td>\n",
              "      <td>29</td>\n",
              "      <td>12</td>\n",
              "    </tr>\n",
              "    <tr>\n",
              "      <th>2</th>\n",
              "      <td>Stripe</td>\n",
              "      <td>95.0</td>\n",
              "      <td>2014-01-23</td>\n",
              "      <td>United States</td>\n",
              "      <td>San Francisco</td>\n",
              "      <td>Fintech</td>\n",
              "      <td>Khosla Ventures, LowercaseCapital, capitalG</td>\n",
              "      <td>2010</td>\n",
              "      <td>$2.901B</td>\n",
              "      <td>39</td>\n",
              "      <td>12</td>\n",
              "    </tr>\n",
              "    <tr>\n",
              "      <th>3</th>\n",
              "      <td>Klarna</td>\n",
              "      <td>45.6</td>\n",
              "      <td>2011-12-12</td>\n",
              "      <td>Sweden</td>\n",
              "      <td>Stockholm</td>\n",
              "      <td>Fintech</td>\n",
              "      <td>Institutional Venture Partners, Sequoia Capita...</td>\n",
              "      <td>2005</td>\n",
              "      <td>$3.472B</td>\n",
              "      <td>56</td>\n",
              "      <td>13</td>\n",
              "    </tr>\n",
              "    <tr>\n",
              "      <th>4</th>\n",
              "      <td>Epic Games</td>\n",
              "      <td>42.0</td>\n",
              "      <td>2018-10-26</td>\n",
              "      <td>United States</td>\n",
              "      <td>Cary</td>\n",
              "      <td>Other</td>\n",
              "      <td>Tencent Holdings, KKR, Smash Ventures</td>\n",
              "      <td>1991</td>\n",
              "      <td>$4.377B</td>\n",
              "      <td>25</td>\n",
              "      <td>5</td>\n",
              "    </tr>\n",
              "  </tbody>\n",
              "</table>\n",
              "</div>\n",
              "      <button class=\"colab-df-convert\" onclick=\"convertToInteractive('df-021778fb-02c2-4d60-a9c2-199e5e5d58c5')\"\n",
              "              title=\"Convert this dataframe to an interactive table.\"\n",
              "              style=\"display:none;\">\n",
              "        \n",
              "  <svg xmlns=\"http://www.w3.org/2000/svg\" height=\"24px\"viewBox=\"0 0 24 24\"\n",
              "       width=\"24px\">\n",
              "    <path d=\"M0 0h24v24H0V0z\" fill=\"none\"/>\n",
              "    <path d=\"M18.56 5.44l.94 2.06.94-2.06 2.06-.94-2.06-.94-.94-2.06-.94 2.06-2.06.94zm-11 1L8.5 8.5l.94-2.06 2.06-.94-2.06-.94L8.5 2.5l-.94 2.06-2.06.94zm10 10l.94 2.06.94-2.06 2.06-.94-2.06-.94-.94-2.06-.94 2.06-2.06.94z\"/><path d=\"M17.41 7.96l-1.37-1.37c-.4-.4-.92-.59-1.43-.59-.52 0-1.04.2-1.43.59L10.3 9.45l-7.72 7.72c-.78.78-.78 2.05 0 2.83L4 21.41c.39.39.9.59 1.41.59.51 0 1.02-.2 1.41-.59l7.78-7.78 2.81-2.81c.8-.78.8-2.07 0-2.86zM5.41 20L4 18.59l7.72-7.72 1.47 1.35L5.41 20z\"/>\n",
              "  </svg>\n",
              "      </button>\n",
              "      \n",
              "  <style>\n",
              "    .colab-df-container {\n",
              "      display:flex;\n",
              "      flex-wrap:wrap;\n",
              "      gap: 12px;\n",
              "    }\n",
              "\n",
              "    .colab-df-convert {\n",
              "      background-color: #E8F0FE;\n",
              "      border: none;\n",
              "      border-radius: 50%;\n",
              "      cursor: pointer;\n",
              "      display: none;\n",
              "      fill: #1967D2;\n",
              "      height: 32px;\n",
              "      padding: 0 0 0 0;\n",
              "      width: 32px;\n",
              "    }\n",
              "\n",
              "    .colab-df-convert:hover {\n",
              "      background-color: #E2EBFA;\n",
              "      box-shadow: 0px 1px 2px rgba(60, 64, 67, 0.3), 0px 1px 3px 1px rgba(60, 64, 67, 0.15);\n",
              "      fill: #174EA6;\n",
              "    }\n",
              "\n",
              "    [theme=dark] .colab-df-convert {\n",
              "      background-color: #3B4455;\n",
              "      fill: #D2E3FC;\n",
              "    }\n",
              "\n",
              "    [theme=dark] .colab-df-convert:hover {\n",
              "      background-color: #434B5C;\n",
              "      box-shadow: 0px 1px 3px 1px rgba(0, 0, 0, 0.15);\n",
              "      filter: drop-shadow(0px 1px 2px rgba(0, 0, 0, 0.3));\n",
              "      fill: #FFFFFF;\n",
              "    }\n",
              "  </style>\n",
              "\n",
              "      <script>\n",
              "        const buttonEl =\n",
              "          document.querySelector('#df-021778fb-02c2-4d60-a9c2-199e5e5d58c5 button.colab-df-convert');\n",
              "        buttonEl.style.display =\n",
              "          google.colab.kernel.accessAllowed ? 'block' : 'none';\n",
              "\n",
              "        async function convertToInteractive(key) {\n",
              "          const element = document.querySelector('#df-021778fb-02c2-4d60-a9c2-199e5e5d58c5');\n",
              "          const dataTable =\n",
              "            await google.colab.kernel.invokeFunction('convertToInteractive',\n",
              "                                                     [key], {});\n",
              "          if (!dataTable) return;\n",
              "\n",
              "          const docLinkHtml = 'Like what you see? Visit the ' +\n",
              "            '<a target=\"_blank\" href=https://colab.research.google.com/notebooks/data_table.ipynb>data table notebook</a>'\n",
              "            + ' to learn more about interactive tables.';\n",
              "          element.innerHTML = '';\n",
              "          dataTable['output_type'] = 'display_data';\n",
              "          await google.colab.output.renderOutput(dataTable, element);\n",
              "          const docLink = document.createElement('div');\n",
              "          docLink.innerHTML = docLinkHtml;\n",
              "          element.appendChild(docLink);\n",
              "        }\n",
              "      </script>\n",
              "    </div>\n",
              "  </div>\n",
              "  "
            ]
          },
          "metadata": {},
          "execution_count": 139
        }
      ]
    },
    {
      "cell_type": "code",
      "source": [
        "unicorn_df.dtypes"
      ],
      "metadata": {
        "colab": {
          "base_uri": "https://localhost:8080/"
        },
        "id": "MGiDJ35tFQmE",
        "outputId": "0a453a3e-5ae4-44c0-f2fd-a4443866cd45"
      },
      "execution_count": 140,
      "outputs": [
        {
          "output_type": "execute_result",
          "data": {
            "text/plain": [
              "Company                      object\n",
              "Valuation ($B)              float64\n",
              "Date Joined          datetime64[ns]\n",
              "Country                      object\n",
              "City                         object\n",
              "Industry                     object\n",
              "Select Inverstors            object\n",
              "Founded Year                 object\n",
              "Total Raised                 object\n",
              "Investors Count              object\n",
              "Deal Terms                   object\n",
              "dtype: object"
            ]
          },
          "metadata": {},
          "execution_count": 140
        }
      ]
    },
    {
      "cell_type": "code",
      "source": [
        "unicorn_df['Investors Count'].unique()"
      ],
      "metadata": {
        "colab": {
          "base_uri": "https://localhost:8080/"
        },
        "id": "Z2Ld0mhwFiJj",
        "outputId": "ced278dc-a177-4264-ddc4-900f267c4c9a"
      },
      "execution_count": 141,
      "outputs": [
        {
          "output_type": "execute_result",
          "data": {
            "text/plain": [
              "array(['28', '29', '39', '56', '25', '26', '15', '31', '40', '21', '24',\n",
              "       '45', '9', '18', '7', '8', '16', '13', '34', '14', '10', '41',\n",
              "       '19', '6', '37', '27', '36', '20', '70', '33', '17', '22', '54',\n",
              "       '35', '11', '85', '32', '1', '2', '30', '12', '23', '4', '5', '38',\n",
              "       '3', '53', '44', '43', '46', '42', 'None', '91', '55'],\n",
              "      dtype=object)"
            ]
          },
          "metadata": {},
          "execution_count": 141
        }
      ]
    },
    {
      "cell_type": "code",
      "source": [
        "unicorn_df['Investors Count'] = unicorn_df['Investors Count'].replace({'None':np.nan}, regex=True)\n",
        "unicorn_df['Investors Count'].unique()"
      ],
      "metadata": {
        "colab": {
          "base_uri": "https://localhost:8080/"
        },
        "id": "WSMhgmrDF-nB",
        "outputId": "510fa4f6-485a-4d6a-863c-14d4cd699f7a"
      },
      "execution_count": 142,
      "outputs": [
        {
          "output_type": "execute_result",
          "data": {
            "text/plain": [
              "array(['28', '29', '39', '56', '25', '26', '15', '31', '40', '21', '24',\n",
              "       '45', '9', '18', '7', '8', '16', '13', '34', '14', '10', '41',\n",
              "       '19', '6', '37', '27', '36', '20', '70', '33', '17', '22', '54',\n",
              "       '35', '11', '85', '32', '1', '2', '30', '12', '23', '4', '5', '38',\n",
              "       '3', '53', '44', '43', '46', '42', nan, '91', '55'], dtype=object)"
            ]
          },
          "metadata": {},
          "execution_count": 142
        }
      ]
    },
    {
      "cell_type": "code",
      "source": [
        "unicorn_df['Investors Count'] = unicorn_df['Investors Count'].astype(float)"
      ],
      "metadata": {
        "id": "oRDoSVMSGcaY"
      },
      "execution_count": 143,
      "outputs": []
    },
    {
      "cell_type": "code",
      "source": [
        "unicorn_df['Deal Terms'] = unicorn_df['Deal Terms'].replace({'None': np.nan}, regex=True)\n",
        "unicorn_df['Deal Terms']"
      ],
      "metadata": {
        "colab": {
          "base_uri": "https://localhost:8080/"
        },
        "id": "UYbIpIm7Gr3I",
        "outputId": "82df0ade-32ea-41f6-f683-f13598b970c6"
      },
      "execution_count": 144,
      "outputs": [
        {
          "output_type": "execute_result",
          "data": {
            "text/plain": [
              "0        8\n",
              "1       12\n",
              "2       12\n",
              "3       13\n",
              "4        5\n",
              "        ..\n",
              "1032     2\n",
              "1033     2\n",
              "1034     6\n",
              "1035     2\n",
              "1036     1\n",
              "Name: Deal Terms, Length: 1037, dtype: object"
            ]
          },
          "metadata": {},
          "execution_count": 144
        }
      ]
    },
    {
      "cell_type": "code",
      "source": [
        "unicorn_df['Total Raised'] = unicorn_df['Total Raised'].replace({\"\\$\": \"\"}, regex=True)\n",
        "unicorn_df['Total Raised']"
      ],
      "metadata": {
        "colab": {
          "base_uri": "https://localhost:8080/"
        },
        "id": "u9qTpzv2GzOT",
        "outputId": "cd343bd3-80c7-4411-e85d-d520e835c3b4"
      },
      "execution_count": 145,
      "outputs": [
        {
          "output_type": "execute_result",
          "data": {
            "text/plain": [
              "0         7.44B\n",
              "1        6.874B\n",
              "2        2.901B\n",
              "3        3.472B\n",
              "4        4.377B\n",
              "         ...   \n",
              "1032    181.06M\n",
              "1033       700M\n",
              "1034    449.72M\n",
              "1035     525.5M\n",
              "1036     604.5M\n",
              "Name: Total Raised, Length: 1037, dtype: object"
            ]
          },
          "metadata": {},
          "execution_count": 145
        }
      ]
    },
    {
      "cell_type": "code",
      "source": [
        "unicorn_df['Total Raised Unity'] = unicorn_df['Total Raised'].str[-1]"
      ],
      "metadata": {
        "id": "aBafrAIiHK1a"
      },
      "execution_count": 146,
      "outputs": []
    },
    {
      "cell_type": "code",
      "source": [
        "unicorn_df['Total Raised'] = unicorn_df['Total Raised'].replace({\n",
        "    \"B$\": \"\", \"M$\": \"\", \"None\": np.nan, \"K$\": \"\"}, regex=True)\n",
        "unicorn_df['Total Raised'] = unicorn_df['Total Raised'].astype(float)"
      ],
      "metadata": {
        "id": "BR1nXvp7Iz_j"
      },
      "execution_count": 147,
      "outputs": []
    },
    {
      "cell_type": "code",
      "source": [
        "for i, row in unicorn_df.iterrows():\n",
        "    if row[\"Total Raised Unity\"] == \"B\":\n",
        "        unicorn_df.loc[i, \"Total Raised\"] = row[\"Total Raised\"] * 1000000000\n",
        "    elif row[\"Total Raised Unity\"] == \"M\":\n",
        "        unicorn_df.loc[i, \"Total Raised\"] = row[\"Total Raised\"] * 1000000\n",
        "    elif row[\"Total Raised Unity\"] == \"K\":\n",
        "        unicorn_df.loc[i, \"Total Raised\"] = row[\"Total Raised\"] * 1000\n",
        "\n",
        "\n",
        "unicorn_df.head()"
      ],
      "metadata": {
        "colab": {
          "base_uri": "https://localhost:8080/",
          "height": 372
        },
        "id": "nSFSnkNJJN_d",
        "outputId": "8fb59e74-dfbe-4071-fef7-5a2d4b72db65"
      },
      "execution_count": 148,
      "outputs": [
        {
          "output_type": "execute_result",
          "data": {
            "text/plain": [
              "      Company  Valuation ($B) Date Joined        Country           City  \\\n",
              "0   Bytedance           140.0  2017-04-07          China        Beijing   \n",
              "1      SpaceX           100.3  2012-12-01  United States      Hawthorne   \n",
              "2      Stripe            95.0  2014-01-23  United States  San Francisco   \n",
              "3      Klarna            45.6  2011-12-12         Sweden      Stockholm   \n",
              "4  Epic Games            42.0  2018-10-26  United States           Cary   \n",
              "\n",
              "                  Industry                                  Select Inverstors  \\\n",
              "0  Artificial Intelligence  Sequoia Capital China, SIG Asia Investments, S...   \n",
              "1                    Other  Founders Fund, Draper Fisher Jurvetson, Rothen...   \n",
              "2                  Fintech        Khosla Ventures, LowercaseCapital, capitalG   \n",
              "3                  Fintech  Institutional Venture Partners, Sequoia Capita...   \n",
              "4                    Other              Tencent Holdings, KKR, Smash Ventures   \n",
              "\n",
              "  Founded Year  Total Raised  Investors Count Deal Terms Total Raised Unity  \n",
              "0         2012  7.440000e+09             28.0          8                  B  \n",
              "1         2002  6.874000e+09             29.0         12                  B  \n",
              "2         2010  2.901000e+09             39.0         12                  B  \n",
              "3         2005  3.472000e+09             56.0         13                  B  \n",
              "4         1991  4.377000e+09             25.0          5                  B  "
            ],
            "text/html": [
              "\n",
              "  <div id=\"df-07f21474-1d9e-440d-816a-7512a5ee9b68\">\n",
              "    <div class=\"colab-df-container\">\n",
              "      <div>\n",
              "<style scoped>\n",
              "    .dataframe tbody tr th:only-of-type {\n",
              "        vertical-align: middle;\n",
              "    }\n",
              "\n",
              "    .dataframe tbody tr th {\n",
              "        vertical-align: top;\n",
              "    }\n",
              "\n",
              "    .dataframe thead th {\n",
              "        text-align: right;\n",
              "    }\n",
              "</style>\n",
              "<table border=\"1\" class=\"dataframe\">\n",
              "  <thead>\n",
              "    <tr style=\"text-align: right;\">\n",
              "      <th></th>\n",
              "      <th>Company</th>\n",
              "      <th>Valuation ($B)</th>\n",
              "      <th>Date Joined</th>\n",
              "      <th>Country</th>\n",
              "      <th>City</th>\n",
              "      <th>Industry</th>\n",
              "      <th>Select Inverstors</th>\n",
              "      <th>Founded Year</th>\n",
              "      <th>Total Raised</th>\n",
              "      <th>Investors Count</th>\n",
              "      <th>Deal Terms</th>\n",
              "      <th>Total Raised Unity</th>\n",
              "    </tr>\n",
              "  </thead>\n",
              "  <tbody>\n",
              "    <tr>\n",
              "      <th>0</th>\n",
              "      <td>Bytedance</td>\n",
              "      <td>140.0</td>\n",
              "      <td>2017-04-07</td>\n",
              "      <td>China</td>\n",
              "      <td>Beijing</td>\n",
              "      <td>Artificial Intelligence</td>\n",
              "      <td>Sequoia Capital China, SIG Asia Investments, S...</td>\n",
              "      <td>2012</td>\n",
              "      <td>7.440000e+09</td>\n",
              "      <td>28.0</td>\n",
              "      <td>8</td>\n",
              "      <td>B</td>\n",
              "    </tr>\n",
              "    <tr>\n",
              "      <th>1</th>\n",
              "      <td>SpaceX</td>\n",
              "      <td>100.3</td>\n",
              "      <td>2012-12-01</td>\n",
              "      <td>United States</td>\n",
              "      <td>Hawthorne</td>\n",
              "      <td>Other</td>\n",
              "      <td>Founders Fund, Draper Fisher Jurvetson, Rothen...</td>\n",
              "      <td>2002</td>\n",
              "      <td>6.874000e+09</td>\n",
              "      <td>29.0</td>\n",
              "      <td>12</td>\n",
              "      <td>B</td>\n",
              "    </tr>\n",
              "    <tr>\n",
              "      <th>2</th>\n",
              "      <td>Stripe</td>\n",
              "      <td>95.0</td>\n",
              "      <td>2014-01-23</td>\n",
              "      <td>United States</td>\n",
              "      <td>San Francisco</td>\n",
              "      <td>Fintech</td>\n",
              "      <td>Khosla Ventures, LowercaseCapital, capitalG</td>\n",
              "      <td>2010</td>\n",
              "      <td>2.901000e+09</td>\n",
              "      <td>39.0</td>\n",
              "      <td>12</td>\n",
              "      <td>B</td>\n",
              "    </tr>\n",
              "    <tr>\n",
              "      <th>3</th>\n",
              "      <td>Klarna</td>\n",
              "      <td>45.6</td>\n",
              "      <td>2011-12-12</td>\n",
              "      <td>Sweden</td>\n",
              "      <td>Stockholm</td>\n",
              "      <td>Fintech</td>\n",
              "      <td>Institutional Venture Partners, Sequoia Capita...</td>\n",
              "      <td>2005</td>\n",
              "      <td>3.472000e+09</td>\n",
              "      <td>56.0</td>\n",
              "      <td>13</td>\n",
              "      <td>B</td>\n",
              "    </tr>\n",
              "    <tr>\n",
              "      <th>4</th>\n",
              "      <td>Epic Games</td>\n",
              "      <td>42.0</td>\n",
              "      <td>2018-10-26</td>\n",
              "      <td>United States</td>\n",
              "      <td>Cary</td>\n",
              "      <td>Other</td>\n",
              "      <td>Tencent Holdings, KKR, Smash Ventures</td>\n",
              "      <td>1991</td>\n",
              "      <td>4.377000e+09</td>\n",
              "      <td>25.0</td>\n",
              "      <td>5</td>\n",
              "      <td>B</td>\n",
              "    </tr>\n",
              "  </tbody>\n",
              "</table>\n",
              "</div>\n",
              "      <button class=\"colab-df-convert\" onclick=\"convertToInteractive('df-07f21474-1d9e-440d-816a-7512a5ee9b68')\"\n",
              "              title=\"Convert this dataframe to an interactive table.\"\n",
              "              style=\"display:none;\">\n",
              "        \n",
              "  <svg xmlns=\"http://www.w3.org/2000/svg\" height=\"24px\"viewBox=\"0 0 24 24\"\n",
              "       width=\"24px\">\n",
              "    <path d=\"M0 0h24v24H0V0z\" fill=\"none\"/>\n",
              "    <path d=\"M18.56 5.44l.94 2.06.94-2.06 2.06-.94-2.06-.94-.94-2.06-.94 2.06-2.06.94zm-11 1L8.5 8.5l.94-2.06 2.06-.94-2.06-.94L8.5 2.5l-.94 2.06-2.06.94zm10 10l.94 2.06.94-2.06 2.06-.94-2.06-.94-.94-2.06-.94 2.06-2.06.94z\"/><path d=\"M17.41 7.96l-1.37-1.37c-.4-.4-.92-.59-1.43-.59-.52 0-1.04.2-1.43.59L10.3 9.45l-7.72 7.72c-.78.78-.78 2.05 0 2.83L4 21.41c.39.39.9.59 1.41.59.51 0 1.02-.2 1.41-.59l7.78-7.78 2.81-2.81c.8-.78.8-2.07 0-2.86zM5.41 20L4 18.59l7.72-7.72 1.47 1.35L5.41 20z\"/>\n",
              "  </svg>\n",
              "      </button>\n",
              "      \n",
              "  <style>\n",
              "    .colab-df-container {\n",
              "      display:flex;\n",
              "      flex-wrap:wrap;\n",
              "      gap: 12px;\n",
              "    }\n",
              "\n",
              "    .colab-df-convert {\n",
              "      background-color: #E8F0FE;\n",
              "      border: none;\n",
              "      border-radius: 50%;\n",
              "      cursor: pointer;\n",
              "      display: none;\n",
              "      fill: #1967D2;\n",
              "      height: 32px;\n",
              "      padding: 0 0 0 0;\n",
              "      width: 32px;\n",
              "    }\n",
              "\n",
              "    .colab-df-convert:hover {\n",
              "      background-color: #E2EBFA;\n",
              "      box-shadow: 0px 1px 2px rgba(60, 64, 67, 0.3), 0px 1px 3px 1px rgba(60, 64, 67, 0.15);\n",
              "      fill: #174EA6;\n",
              "    }\n",
              "\n",
              "    [theme=dark] .colab-df-convert {\n",
              "      background-color: #3B4455;\n",
              "      fill: #D2E3FC;\n",
              "    }\n",
              "\n",
              "    [theme=dark] .colab-df-convert:hover {\n",
              "      background-color: #434B5C;\n",
              "      box-shadow: 0px 1px 3px 1px rgba(0, 0, 0, 0.15);\n",
              "      filter: drop-shadow(0px 1px 2px rgba(0, 0, 0, 0.3));\n",
              "      fill: #FFFFFF;\n",
              "    }\n",
              "  </style>\n",
              "\n",
              "      <script>\n",
              "        const buttonEl =\n",
              "          document.querySelector('#df-07f21474-1d9e-440d-816a-7512a5ee9b68 button.colab-df-convert');\n",
              "        buttonEl.style.display =\n",
              "          google.colab.kernel.accessAllowed ? 'block' : 'none';\n",
              "\n",
              "        async function convertToInteractive(key) {\n",
              "          const element = document.querySelector('#df-07f21474-1d9e-440d-816a-7512a5ee9b68');\n",
              "          const dataTable =\n",
              "            await google.colab.kernel.invokeFunction('convertToInteractive',\n",
              "                                                     [key], {});\n",
              "          if (!dataTable) return;\n",
              "\n",
              "          const docLinkHtml = 'Like what you see? Visit the ' +\n",
              "            '<a target=\"_blank\" href=https://colab.research.google.com/notebooks/data_table.ipynb>data table notebook</a>'\n",
              "            + ' to learn more about interactive tables.';\n",
              "          element.innerHTML = '';\n",
              "          dataTable['output_type'] = 'display_data';\n",
              "          await google.colab.output.renderOutput(dataTable, element);\n",
              "          const docLink = document.createElement('div');\n",
              "          docLink.innerHTML = docLinkHtml;\n",
              "          element.appendChild(docLink);\n",
              "        }\n",
              "      </script>\n",
              "    </div>\n",
              "  </div>\n",
              "  "
            ]
          },
          "metadata": {},
          "execution_count": 148
        }
      ]
    },
    {
      "cell_type": "code",
      "source": [
        "unicorn_df.drop('Total Raised Unity', axis=1, inplace=True)"
      ],
      "metadata": {
        "id": "TdmiCpzEJnFC"
      },
      "execution_count": 149,
      "outputs": []
    },
    {
      "cell_type": "code",
      "source": [
        "unicorn_df.head()"
      ],
      "metadata": {
        "colab": {
          "base_uri": "https://localhost:8080/",
          "height": 354
        },
        "id": "VhgZfehSJwdu",
        "outputId": "77723f1b-946f-4415-eada-b0fa05516c06"
      },
      "execution_count": 150,
      "outputs": [
        {
          "output_type": "execute_result",
          "data": {
            "text/plain": [
              "      Company  Valuation ($B) Date Joined        Country           City  \\\n",
              "0   Bytedance           140.0  2017-04-07          China        Beijing   \n",
              "1      SpaceX           100.3  2012-12-01  United States      Hawthorne   \n",
              "2      Stripe            95.0  2014-01-23  United States  San Francisco   \n",
              "3      Klarna            45.6  2011-12-12         Sweden      Stockholm   \n",
              "4  Epic Games            42.0  2018-10-26  United States           Cary   \n",
              "\n",
              "                  Industry                                  Select Inverstors  \\\n",
              "0  Artificial Intelligence  Sequoia Capital China, SIG Asia Investments, S...   \n",
              "1                    Other  Founders Fund, Draper Fisher Jurvetson, Rothen...   \n",
              "2                  Fintech        Khosla Ventures, LowercaseCapital, capitalG   \n",
              "3                  Fintech  Institutional Venture Partners, Sequoia Capita...   \n",
              "4                    Other              Tencent Holdings, KKR, Smash Ventures   \n",
              "\n",
              "  Founded Year  Total Raised  Investors Count Deal Terms  \n",
              "0         2012  7.440000e+09             28.0          8  \n",
              "1         2002  6.874000e+09             29.0         12  \n",
              "2         2010  2.901000e+09             39.0         12  \n",
              "3         2005  3.472000e+09             56.0         13  \n",
              "4         1991  4.377000e+09             25.0          5  "
            ],
            "text/html": [
              "\n",
              "  <div id=\"df-2af0b08b-c61b-4515-ad7e-19b9d198426d\">\n",
              "    <div class=\"colab-df-container\">\n",
              "      <div>\n",
              "<style scoped>\n",
              "    .dataframe tbody tr th:only-of-type {\n",
              "        vertical-align: middle;\n",
              "    }\n",
              "\n",
              "    .dataframe tbody tr th {\n",
              "        vertical-align: top;\n",
              "    }\n",
              "\n",
              "    .dataframe thead th {\n",
              "        text-align: right;\n",
              "    }\n",
              "</style>\n",
              "<table border=\"1\" class=\"dataframe\">\n",
              "  <thead>\n",
              "    <tr style=\"text-align: right;\">\n",
              "      <th></th>\n",
              "      <th>Company</th>\n",
              "      <th>Valuation ($B)</th>\n",
              "      <th>Date Joined</th>\n",
              "      <th>Country</th>\n",
              "      <th>City</th>\n",
              "      <th>Industry</th>\n",
              "      <th>Select Inverstors</th>\n",
              "      <th>Founded Year</th>\n",
              "      <th>Total Raised</th>\n",
              "      <th>Investors Count</th>\n",
              "      <th>Deal Terms</th>\n",
              "    </tr>\n",
              "  </thead>\n",
              "  <tbody>\n",
              "    <tr>\n",
              "      <th>0</th>\n",
              "      <td>Bytedance</td>\n",
              "      <td>140.0</td>\n",
              "      <td>2017-04-07</td>\n",
              "      <td>China</td>\n",
              "      <td>Beijing</td>\n",
              "      <td>Artificial Intelligence</td>\n",
              "      <td>Sequoia Capital China, SIG Asia Investments, S...</td>\n",
              "      <td>2012</td>\n",
              "      <td>7.440000e+09</td>\n",
              "      <td>28.0</td>\n",
              "      <td>8</td>\n",
              "    </tr>\n",
              "    <tr>\n",
              "      <th>1</th>\n",
              "      <td>SpaceX</td>\n",
              "      <td>100.3</td>\n",
              "      <td>2012-12-01</td>\n",
              "      <td>United States</td>\n",
              "      <td>Hawthorne</td>\n",
              "      <td>Other</td>\n",
              "      <td>Founders Fund, Draper Fisher Jurvetson, Rothen...</td>\n",
              "      <td>2002</td>\n",
              "      <td>6.874000e+09</td>\n",
              "      <td>29.0</td>\n",
              "      <td>12</td>\n",
              "    </tr>\n",
              "    <tr>\n",
              "      <th>2</th>\n",
              "      <td>Stripe</td>\n",
              "      <td>95.0</td>\n",
              "      <td>2014-01-23</td>\n",
              "      <td>United States</td>\n",
              "      <td>San Francisco</td>\n",
              "      <td>Fintech</td>\n",
              "      <td>Khosla Ventures, LowercaseCapital, capitalG</td>\n",
              "      <td>2010</td>\n",
              "      <td>2.901000e+09</td>\n",
              "      <td>39.0</td>\n",
              "      <td>12</td>\n",
              "    </tr>\n",
              "    <tr>\n",
              "      <th>3</th>\n",
              "      <td>Klarna</td>\n",
              "      <td>45.6</td>\n",
              "      <td>2011-12-12</td>\n",
              "      <td>Sweden</td>\n",
              "      <td>Stockholm</td>\n",
              "      <td>Fintech</td>\n",
              "      <td>Institutional Venture Partners, Sequoia Capita...</td>\n",
              "      <td>2005</td>\n",
              "      <td>3.472000e+09</td>\n",
              "      <td>56.0</td>\n",
              "      <td>13</td>\n",
              "    </tr>\n",
              "    <tr>\n",
              "      <th>4</th>\n",
              "      <td>Epic Games</td>\n",
              "      <td>42.0</td>\n",
              "      <td>2018-10-26</td>\n",
              "      <td>United States</td>\n",
              "      <td>Cary</td>\n",
              "      <td>Other</td>\n",
              "      <td>Tencent Holdings, KKR, Smash Ventures</td>\n",
              "      <td>1991</td>\n",
              "      <td>4.377000e+09</td>\n",
              "      <td>25.0</td>\n",
              "      <td>5</td>\n",
              "    </tr>\n",
              "  </tbody>\n",
              "</table>\n",
              "</div>\n",
              "      <button class=\"colab-df-convert\" onclick=\"convertToInteractive('df-2af0b08b-c61b-4515-ad7e-19b9d198426d')\"\n",
              "              title=\"Convert this dataframe to an interactive table.\"\n",
              "              style=\"display:none;\">\n",
              "        \n",
              "  <svg xmlns=\"http://www.w3.org/2000/svg\" height=\"24px\"viewBox=\"0 0 24 24\"\n",
              "       width=\"24px\">\n",
              "    <path d=\"M0 0h24v24H0V0z\" fill=\"none\"/>\n",
              "    <path d=\"M18.56 5.44l.94 2.06.94-2.06 2.06-.94-2.06-.94-.94-2.06-.94 2.06-2.06.94zm-11 1L8.5 8.5l.94-2.06 2.06-.94-2.06-.94L8.5 2.5l-.94 2.06-2.06.94zm10 10l.94 2.06.94-2.06 2.06-.94-2.06-.94-.94-2.06-.94 2.06-2.06.94z\"/><path d=\"M17.41 7.96l-1.37-1.37c-.4-.4-.92-.59-1.43-.59-.52 0-1.04.2-1.43.59L10.3 9.45l-7.72 7.72c-.78.78-.78 2.05 0 2.83L4 21.41c.39.39.9.59 1.41.59.51 0 1.02-.2 1.41-.59l7.78-7.78 2.81-2.81c.8-.78.8-2.07 0-2.86zM5.41 20L4 18.59l7.72-7.72 1.47 1.35L5.41 20z\"/>\n",
              "  </svg>\n",
              "      </button>\n",
              "      \n",
              "  <style>\n",
              "    .colab-df-container {\n",
              "      display:flex;\n",
              "      flex-wrap:wrap;\n",
              "      gap: 12px;\n",
              "    }\n",
              "\n",
              "    .colab-df-convert {\n",
              "      background-color: #E8F0FE;\n",
              "      border: none;\n",
              "      border-radius: 50%;\n",
              "      cursor: pointer;\n",
              "      display: none;\n",
              "      fill: #1967D2;\n",
              "      height: 32px;\n",
              "      padding: 0 0 0 0;\n",
              "      width: 32px;\n",
              "    }\n",
              "\n",
              "    .colab-df-convert:hover {\n",
              "      background-color: #E2EBFA;\n",
              "      box-shadow: 0px 1px 2px rgba(60, 64, 67, 0.3), 0px 1px 3px 1px rgba(60, 64, 67, 0.15);\n",
              "      fill: #174EA6;\n",
              "    }\n",
              "\n",
              "    [theme=dark] .colab-df-convert {\n",
              "      background-color: #3B4455;\n",
              "      fill: #D2E3FC;\n",
              "    }\n",
              "\n",
              "    [theme=dark] .colab-df-convert:hover {\n",
              "      background-color: #434B5C;\n",
              "      box-shadow: 0px 1px 3px 1px rgba(0, 0, 0, 0.15);\n",
              "      filter: drop-shadow(0px 1px 2px rgba(0, 0, 0, 0.3));\n",
              "      fill: #FFFFFF;\n",
              "    }\n",
              "  </style>\n",
              "\n",
              "      <script>\n",
              "        const buttonEl =\n",
              "          document.querySelector('#df-2af0b08b-c61b-4515-ad7e-19b9d198426d button.colab-df-convert');\n",
              "        buttonEl.style.display =\n",
              "          google.colab.kernel.accessAllowed ? 'block' : 'none';\n",
              "\n",
              "        async function convertToInteractive(key) {\n",
              "          const element = document.querySelector('#df-2af0b08b-c61b-4515-ad7e-19b9d198426d');\n",
              "          const dataTable =\n",
              "            await google.colab.kernel.invokeFunction('convertToInteractive',\n",
              "                                                     [key], {});\n",
              "          if (!dataTable) return;\n",
              "\n",
              "          const docLinkHtml = 'Like what you see? Visit the ' +\n",
              "            '<a target=\"_blank\" href=https://colab.research.google.com/notebooks/data_table.ipynb>data table notebook</a>'\n",
              "            + ' to learn more about interactive tables.';\n",
              "          element.innerHTML = '';\n",
              "          dataTable['output_type'] = 'display_data';\n",
              "          await google.colab.output.renderOutput(dataTable, element);\n",
              "          const docLink = document.createElement('div');\n",
              "          docLink.innerHTML = docLinkHtml;\n",
              "          element.appendChild(docLink);\n",
              "        }\n",
              "      </script>\n",
              "    </div>\n",
              "  </div>\n",
              "  "
            ]
          },
          "metadata": {},
          "execution_count": 150
        }
      ]
    },
    {
      "cell_type": "code",
      "source": [
        "sns.barplot(x=unicorn_df['Industry'].value_counts().index,y=unicorn_df['Industry'].value_counts().values)\n",
        "plt.title(\"Startups in different Industry Category\")\n",
        "plt.xlabel('Industry Type')\n",
        "plt.ylabel('Number of Startups')\n",
        "plt.xticks(rotation=90)"
      ],
      "metadata": {
        "colab": {
          "base_uri": "https://localhost:8080/",
          "height": 492
        },
        "id": "N7NORQ6CJymY",
        "outputId": "cd28c1b2-55ab-45a5-e005-7b28665ad2ee"
      },
      "execution_count": 165,
      "outputs": [
        {
          "output_type": "execute_result",
          "data": {
            "text/plain": [
              "(array([ 0,  1,  2,  3,  4,  5,  6,  7,  8,  9, 10, 11, 12, 13, 14]),\n",
              " <a list of 15 Text major ticklabel objects>)"
            ]
          },
          "metadata": {},
          "execution_count": 165
        },
        {
          "output_type": "display_data",
          "data": {
            "text/plain": [
              "<Figure size 432x288 with 1 Axes>"
            ],
            "image/png": "[encoded data removed]"
          },
          "metadata": {
            "needs_background": "light"
          }
        }
      ]
    },
    {
      "cell_type": "code",
      "source": [
        "valuation_per_country = unicorn_df.groupby('Country')['Valuation ($B)'].sum()\n",
        "valuation_per_country = valuation_per_country.sort_values(ascending=False)\n",
        "valuation_per_country"
      ],
      "metadata": {
        "colab": {
          "base_uri": "https://localhost:8080/"
        },
        "id": "oPe2GMG0Lqs5",
        "outputId": "4e0276db-b852-4669-f578-81d15eac3b8f"
      },
      "execution_count": 152,
      "outputs": [
        {
          "output_type": "execute_result",
          "data": {
            "text/plain": [
              "Country\n",
              "United States           1829.74\n",
              "China                    572.69\n",
              "India                    187.05\n",
              "United Kingdom           177.68\n",
              "Germany                   66.70\n",
              "Sweden                    60.52\n",
              "Australia                 50.60\n",
              "France                    49.87\n",
              "Canada                    49.03\n",
              "Israel                    38.42\n",
              "Brazil                    36.98\n",
              "Bahamas                   32.00\n",
              "Indonesia                 30.90\n",
              "South Korea               27.12\n",
              "Netherlands               19.80\n",
              "Hong Kong                 18.35\n",
              "Singapore                 17.55\n",
              "Mexico                    16.40\n",
              "Turkey                    11.47\n",
              "Estonia                    9.90\n",
              "Ireland                    9.05\n",
              "Belgium                    8.95\n",
              "Japan                      8.82\n",
              "Finland                    8.70\n",
              "Austria                    7.61\n",
              "Switzerland                6.60\n",
              "Colombia                   6.40\n",
              "Denmark                    5.70\n",
              "Vietnam                    5.27\n",
              "Spain                      5.05\n",
              "Norway                     4.70\n",
              "Lithuania                  4.53\n",
              "United Arab Emirates       4.50\n",
              "Philippines                3.00\n",
              "South Africa               2.59\n",
              "Chile                      2.50\n",
              "Thailand                   2.50\n",
              "Argentina                  2.45\n",
              "Nigeria                    2.00\n",
              "Luxembourg                 2.00\n",
              "Senegal                    1.70\n",
              "Malaysia                   1.70\n",
              "Bermuda                    1.60\n",
              "Czech Republic             1.20\n",
              "Croatia                    1.00\n",
              "Italy                      1.00\n",
              "Name: Valuation ($B), dtype: float64"
            ]
          },
          "metadata": {},
          "execution_count": 152
        }
      ]
    },
    {
      "cell_type": "code",
      "source": [
        "sns.barplot(x=valuation_per_country.index[:10], \n",
        "            y=valuation_per_country.values[:10])\n",
        "plt.title('Top 10 Countries with highest valuation($B)')\n",
        "plt.xlabel('Industry Type')\n",
        "plt.ylabel('Number of Startups')\n",
        "plt.xticks(rotation=90)"
      ],
      "metadata": {
        "colab": {
          "base_uri": "https://localhost:8080/",
          "height": 401
        },
        "id": "niNLhMgQMb6k",
        "outputId": "460f6dfe-2db3-4b98-8052-4c169c6851c4"
      },
      "execution_count": 166,
      "outputs": [
        {
          "output_type": "execute_result",
          "data": {
            "text/plain": [
              "(array([0, 1, 2, 3, 4, 5, 6, 7, 8, 9]),\n",
              " <a list of 10 Text major ticklabel objects>)"
            ]
          },
          "metadata": {},
          "execution_count": 166
        },
        {
          "output_type": "display_data",
          "data": {
            "text/plain": [
              "<Figure size 432x288 with 1 Axes>"
            ],
            "image/png": "[encoded data removed]"
          },
          "metadata": {
            "needs_background": "light"
          }
        }
      ]
    },
    {
      "cell_type": "code",
      "source": [
        "founded_at_count = unicorn_df.groupby('Founded Year').Company.count()\n",
        "founded_at_count = founded_at_count.sort_index(ascending=True)\n",
        "founded_at_count"
      ],
      "metadata": {
        "colab": {
          "base_uri": "https://localhost:8080/"
        },
        "id": "NwdrUBQhMvHV",
        "outputId": "d912a9f5-a0b0-4fc2-e03c-09e2518920ef"
      },
      "execution_count": 154,
      "outputs": [
        {
          "output_type": "execute_result",
          "data": {
            "text/plain": [
              "Founded Year\n",
              "1919      1\n",
              "1973      1\n",
              "1979      1\n",
              "1984      1\n",
              "1990      1\n",
              "1991      1\n",
              "1992      2\n",
              "1993      1\n",
              "1994      2\n",
              "1995      2\n",
              "1996      1\n",
              "1997      1\n",
              "1998      4\n",
              "1999      8\n",
              "2000     12\n",
              "2001      8\n",
              "2002      3\n",
              "2003      7\n",
              "2004      8\n",
              "2005     15\n",
              "2006     13\n",
              "2007     23\n",
              "2008     23\n",
              "2009     33\n",
              "2010     37\n",
              "2011     76\n",
              "2012     87\n",
              "2013     85\n",
              "2014    105\n",
              "2015    144\n",
              "2016    101\n",
              "2017     67\n",
              "2018     55\n",
              "2019     34\n",
              "2020     23\n",
              "2021      8\n",
              "None     43\n",
              "Name: Company, dtype: int64"
            ]
          },
          "metadata": {},
          "execution_count": 154
        }
      ]
    },
    {
      "cell_type": "code",
      "source": [
        "sns.lineplot(x=founded_at_count.index, y=founded_at_count.values)\n",
        "plt.title('Startup Progression between 1919 to 2021')\n",
        "plt.xlabel('Year')\n",
        "plt.ylabel('Number of Startups')\n",
        "plt.xticks(rotation=90)"
      ],
      "metadata": {
        "colab": {
          "base_uri": "https://localhost:8080/",
          "height": 971
        },
        "id": "rXgIblxVNwmS",
        "outputId": "698a195c-aebc-4655-9bf7-0d55a7f32f6e"
      },
      "execution_count": 167,
      "outputs": [
        {
          "output_type": "execute_result",
          "data": {
            "text/plain": [
              "([0,\n",
              "  1,\n",
              "  2,\n",
              "  3,\n",
              "  4,\n",
              "  5,\n",
              "  6,\n",
              "  7,\n",
              "  8,\n",
              "  9,\n",
              "  10,\n",
              "  11,\n",
              "  12,\n",
              "  13,\n",
              "  14,\n",
              "  15,\n",
              "  16,\n",
              "  17,\n",
              "  18,\n",
              "  19,\n",
              "  20,\n",
              "  21,\n",
              "  22,\n",
              "  23,\n",
              "  24,\n",
              "  25,\n",
              "  26,\n",
              "  27,\n",
              "  28,\n",
              "  29,\n",
              "  30,\n",
              "  31,\n",
              "  32,\n",
              "  33,\n",
              "  34,\n",
              "  35,\n",
              "  36],\n",
              " <a list of 37 Text major ticklabel objects>)"
            ]
          },
          "metadata": {},
          "execution_count": 167
        },
        {
          "output_type": "display_data",
          "data": {
            "text/plain": [
              "<Figure size 432x288 with 1 Axes>"
            ],
            "image/png": "[encoded data removed]"
          },
          "metadata": {
            "needs_background": "light"
          }
        }
      ]
    },
    {
      "cell_type": "code",
      "source": [
        "industry_raised = unicorn_df.groupby('Industry')['Total Raised'].sum()\n",
        "industry_raised"
      ],
      "metadata": {
        "colab": {
          "base_uri": "https://localhost:8080/"
        },
        "id": "29OsImRyOQR7",
        "outputId": "a5d31aa1-5dec-42f7-e976-2581d0cfc0c6"
      },
      "execution_count": 168,
      "outputs": [
        {
          "output_type": "execute_result",
          "data": {
            "text/plain": [
              "Industry\n",
              "Artificial Intelligence                4.454375e+10\n",
              "Auto & transportation                  3.438302e+10\n",
              "Consumer & retail                      1.318730e+10\n",
              "Cybersecurity                          2.235340e+10\n",
              "Data management & analytics            1.900160e+10\n",
              "E-commerce & direct-to-consumer        7.514894e+10\n",
              "Edtech                                 2.202012e+10\n",
              "Fintech                                1.045018e+11\n",
              "Hardware                               2.539535e+10\n",
              "Health                                 3.360411e+10\n",
              "Internet software & services           7.389173e+10\n",
              "Mobile & telecommunications            1.534536e+10\n",
              "Other                                  4.366574e+10\n",
              "Supply chain, logistics, & delivery    4.288822e+10\n",
              "Travel                                 1.332174e+10\n",
              "Name: Total Raised, dtype: float64"
            ]
          },
          "metadata": {},
          "execution_count": 168
        }
      ]
    },
    {
      "cell_type": "code",
      "source": [
        "sns.barplot(x=industry_raised.index, y=industry_raised.values)\n",
        "plt.title('Amount Raised across different Industries')\n",
        "plt.xlabel('Industry Type')\n",
        "plt.ylabel('Amount in($B)')\n",
        "plt.xticks(rotation=90)"
      ],
      "metadata": {
        "colab": {
          "base_uri": "https://localhost:8080/",
          "height": 492
        },
        "id": "KGDHf8Z_O8H8",
        "outputId": "5f7704d6-ebfa-4eda-bd5c-0da72b51f16f"
      },
      "execution_count": 169,
      "outputs": [
        {
          "output_type": "execute_result",
          "data": {
            "text/plain": [
              "(array([ 0,  1,  2,  3,  4,  5,  6,  7,  8,  9, 10, 11, 12, 13, 14]),\n",
              " <a list of 15 Text major ticklabel objects>)"
            ]
          },
          "metadata": {},
          "execution_count": 169
        },
        {
          "output_type": "display_data",
          "data": {
            "text/plain": [
              "<Figure size 432x288 with 1 Axes>"
            ],
            "image/png": "[encoded data removed]"
          },
          "metadata": {
            "needs_background": "light"
          }
        }
      ]
    },
    {
      "cell_type": "code",
      "source": [
        "industry_investor_count = unicorn_df.groupby('Industry')['Investors Count'].sum()\n",
        "industry_investor_count = industry_investor_count.sort_values(ascending=False)"
      ],
      "metadata": {
        "id": "SG_GYB8nVuLb"
      },
      "execution_count": 162,
      "outputs": []
    },
    {
      "cell_type": "code",
      "source": [
        "sns.barplot(x=industry_investor_count.index, y=industry_investor_count.values)\n",
        "plt.title('Investors Trend across different Industries')\n",
        "plt.xlabel('Industry Type')\n",
        "plt.ylabel('Number of Investors')\n",
        "plt.xticks(rotation=90)"
      ],
      "metadata": {
        "colab": {
          "base_uri": "https://localhost:8080/",
          "height": 492
        },
        "id": "7iRJPv_3WTyT",
        "outputId": "7afed070-b852-460f-a60a-1db8012698a0"
      },
      "execution_count": 170,
      "outputs": [
        {
          "output_type": "execute_result",
          "data": {
            "text/plain": [
              "(array([ 0,  1,  2,  3,  4,  5,  6,  7,  8,  9, 10, 11, 12, 13, 14]),\n",
              " <a list of 15 Text major ticklabel objects>)"
            ]
          },
          "metadata": {},
          "execution_count": 170
        },
        {
          "output_type": "display_data",
          "data": {
            "text/plain": [
              "<Figure size 432x288 with 1 Axes>"
            ],
            "image/png": "[encoded data removed]"
          },
          "metadata": {
            "needs_background": "light"
          }
        }
      ]
    },
    {
      "cell_type": "code",
      "source": [
        ""
      ],
      "metadata": {
        "id": "h9DuXt7sWaAY"
      },
      "execution_count": null,
      "outputs": []
    }
  ]
}